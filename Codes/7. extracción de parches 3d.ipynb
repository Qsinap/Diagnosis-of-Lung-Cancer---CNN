{
 "cells": [
  {
   "cell_type": "code",
   "execution_count": 1,
   "metadata": {
    "ExecuteTime": {
     "end_time": "2020-09-15T17:55:44.311072Z",
     "start_time": "2020-09-15T17:55:43.706844Z"
    }
   },
   "outputs": [],
   "source": [
    "import matplotlib.pyplot as plt\n",
    "import numpy as np\n",
    "import pandas as pd\n",
    "import math\n",
    "from glob import glob\n",
    "import re\n",
    "\n",
    "import pydicom\n",
    "from multiprocessing.pool import Pool"
   ]
  },
  {
   "cell_type": "code",
   "execution_count": 83,
   "metadata": {
    "ExecuteTime": {
     "end_time": "2020-09-15T21:05:44.598346Z",
     "start_time": "2020-09-15T21:05:44.595371Z"
    }
   },
   "outputs": [],
   "source": [
    "from scipy.ndimage import rotate"
   ]
  },
  {
   "cell_type": "code",
   "execution_count": 2,
   "metadata": {
    "ExecuteTime": {
     "end_time": "2020-09-15T17:55:45.475675Z",
     "start_time": "2020-09-15T17:55:45.464744Z"
    }
   },
   "outputs": [],
   "source": [
    "from tqdm import tqdm_notebook\n",
    "from multiprocessing.pool import ThreadPool"
   ]
  },
  {
   "cell_type": "code",
   "execution_count": 3,
   "metadata": {
    "ExecuteTime": {
     "end_time": "2020-09-15T17:55:46.590388Z",
     "start_time": "2020-09-15T17:55:46.377098Z"
    }
   },
   "outputs": [],
   "source": [
    "df = pd.read_csv(\"./csvs/final_data.csv\")"
   ]
  },
  {
   "cell_type": "code",
   "execution_count": 4,
   "metadata": {
    "ExecuteTime": {
     "end_time": "2020-09-15T17:55:46.970643Z",
     "start_time": "2020-09-15T17:55:46.968642Z"
    }
   },
   "outputs": [],
   "source": [
    "root_mask_path = \"Y:/LIDC-IDRI_final_masks/LIDC-IDRI-{}.npz\""
   ]
  },
  {
   "cell_type": "code",
   "execution_count": 5,
   "metadata": {
    "ExecuteTime": {
     "end_time": "2020-09-15T17:55:48.204460Z",
     "start_time": "2020-09-15T17:55:48.200456Z"
    }
   },
   "outputs": [],
   "source": [
    "df = df[['path', 'final_id', 'xf', 'xi', 'yf', 'yi', 'zf', 'zi']]"
   ]
  },
  {
   "cell_type": "code",
   "execution_count": 6,
   "metadata": {
    "ExecuteTime": {
     "end_time": "2020-09-15T17:55:49.031379Z",
     "start_time": "2020-09-15T17:55:49.001660Z"
    }
   },
   "outputs": [],
   "source": [
    "df.drop_duplicates(inplace=True)"
   ]
  },
  {
   "cell_type": "code",
   "execution_count": 7,
   "metadata": {
    "ExecuteTime": {
     "end_time": "2020-09-15T17:55:50.028578Z",
     "start_time": "2020-09-15T17:55:50.024593Z"
    }
   },
   "outputs": [],
   "source": [
    "def transform(row):\n",
    "    radios = np.array([math.ceil((row[\"xf\"] - row[\"xi\"])/2), math.ceil((row[\"yf\"] - row[\"yi\"])/2), math.ceil((row[\"zf\"] - row[\"zi\"])/2)])\n",
    "    x = radios[0] + row[\"xi\"]\n",
    "    y = radios[1] + row[\"yi\"]\n",
    "    z = radios[2] + row[\"zi\"]\n",
    "    row[\"coordX\"] = x\n",
    "    row[\"coordY\"] = y\n",
    "    row[\"coordZ\"] = z\n",
    "    row[\"radio_mm\"] = int(radios.max())\n",
    "    return row"
   ]
  },
  {
   "cell_type": "code",
   "execution_count": 8,
   "metadata": {
    "ExecuteTime": {
     "end_time": "2020-09-15T17:55:58.541499Z",
     "start_time": "2020-09-15T17:55:51.368367Z"
    }
   },
   "outputs": [],
   "source": [
    "df = df.apply(transform, axis=1)"
   ]
  },
  {
   "cell_type": "code",
   "execution_count": 9,
   "metadata": {
    "ExecuteTime": {
     "end_time": "2020-09-15T17:55:58.613838Z",
     "start_time": "2020-09-15T17:55:58.608841Z"
    }
   },
   "outputs": [],
   "source": [
    "def get_dicoms_from_folder(folder_name, jobs=30):\n",
    "    try:\n",
    "        list_url = glob(folder_name)\n",
    "        dcms = list(ThreadPool(jobs).imap_unordered(pydicom.dcmread, list_url))\n",
    "    except Exception as e:\n",
    "        raise Exception('error al paralelizar la descarga ' + str(e))\n",
    "    return dcms\n",
    "\n",
    "def get_vol_from_dcms(dcms):\n",
    "    dcms.sort(key=lambda x: float(x.ImagePositionPatient[2]))\n",
    "    try:\n",
    "        vol = []\n",
    "        spacing = np.array(dcms[0].PixelSpacing).astype(np.float)\n",
    "        thickness = float(abs(dcms[0].ImagePositionPatient[2] - dcms[1].ImagePositionPatient[2]))\n",
    "        spacing = np.concatenate([[thickness], spacing])\n",
    "\n",
    "        for dcm in dcms:\n",
    "            intercept = int(dcm.RescaleIntercept)\n",
    "            slope = int(dcm.RescaleSlope)\n",
    "            img_2d = dcm.pixel_array.copy().astype(np.int16)\n",
    "            if slope != 1:\n",
    "                img_2d *= slope\n",
    "\n",
    "            img_2d += intercept\n",
    "            vol.append(img_2d)\n",
    "\n",
    "        vol = np.array(vol, dtype=np.int16)\n",
    "    except Exception as e:\n",
    "        print(str(e))\n",
    "        raise Exception('error extraer el volumen del dicom ' + str(e))\n",
    "    return vol, spacing"
   ]
  },
  {
   "cell_type": "code",
   "execution_count": 10,
   "metadata": {
    "ExecuteTime": {
     "end_time": "2020-09-15T17:55:58.682801Z",
     "start_time": "2020-09-15T17:55:58.677804Z"
    }
   },
   "outputs": [],
   "source": [
    "train, test = np.load('splited.npy', allow_pickle=True)"
   ]
  },
  {
   "cell_type": "code",
   "execution_count": 16,
   "metadata": {
    "ExecuteTime": {
     "end_time": "2020-09-15T17:58:40.507733Z",
     "start_time": "2020-09-15T17:58:40.504469Z"
    }
   },
   "outputs": [],
   "source": [
    "paths = [*train, *test]"
   ]
  },
  {
   "cell_type": "code",
   "execution_count": 12,
   "metadata": {
    "ExecuteTime": {
     "end_time": "2020-08-10T02:54:22.784861Z",
     "start_time": "2020-08-09T23:18:24.128776Z"
    }
   },
   "outputs": [
    {
     "data": {
      "application/vnd.jupyter.widget-view+json": {
       "model_id": "e3d8be5e7d6f4ab29883bc55e025a30f",
       "version_major": 2,
       "version_minor": 0
      },
      "text/plain": [
       "HBox(children=(IntProgress(value=0, max=883), HTML(value='')))"
      ]
     },
     "metadata": {},
     "output_type": "display_data"
    },
    {
     "name": "stdout",
     "output_type": "stream",
     "text": [
      "\n"
     ]
    }
   ],
   "source": [
    "n = 1\n",
    "for path in tqdm_notebook(paths):\n",
    "#def process(path):\n",
    "    for nn in range(n):\n",
    "        # cargando coordenadas de los nodulos\n",
    "        dcms = get_dicoms_from_folder(path+'/*.dcm')\n",
    "        vol, spacing = get_vol_from_dcms(dcms)\n",
    "        case = re.search('LIDC-IDRI-(.+?)/', path).group(1)\n",
    "\n",
    "        mask_path = root_mask_path.format(case)\n",
    "\n",
    "        file = np.load(mask_path)\n",
    "        mask = file['mask']\n",
    "        file.close()\n",
    "\n",
    "        nodules = df[df[\"path\"] == path][['coordX', 'coordY', 'coordZ', 'radio_mm']]\n",
    "        nodules = nodules.round().astype(int)[['coordZ', 'coordY', 'coordX', 'radio_mm']]\n",
    "\n",
    "        c = []\n",
    "        # recorriendo las cordenadas de los nodulos y almacenado las nuevas coordenadas\n",
    "        for i in nodules.values:\n",
    "            \n",
    "            minimun = np.maximum(0, (i[0] - 64) + i[3])\n",
    "            maximum = i[0] - i[3] if ((i[0] - i[3]) + 64) <= vol.shape[0] else vol.shape[0] - 64\n",
    "            z_i = maximum if maximum <= minimun else np.random.randint(np.min(minimun), np.max(maximum))\n",
    "            \n",
    "            minimun = np.maximum(0, (i[1] - 64) + i[3])\n",
    "            maximum = i[1] - i[3] if ((i[1] - i[3]) + 64) <= vol.shape[1] else vol.shape[1] - 64\n",
    "            y_i = maximum if maximum <= minimun else np.random.randint(np.min(minimun), np.max(maximum))\n",
    "\n",
    "            \n",
    "            minimun = np.maximum(0, (i[2] - 64) + i[3])\n",
    "            maximum = i[2] - i[3] if ((i[2] - i[3]) + 64) <= vol.shape[2] else vol.shape[2] - 64\n",
    "            x_i = maximum if maximum <= minimun else np.random.randint(np.min(minimun), np.max(maximum))\n",
    "            \n",
    "            c.append([z_i, y_i, x_i])\n",
    "        c = np.array(c)\n",
    "\n",
    "        # recorriendo las nuevas coordenadas y almacenando los cubos de 64x64x64\n",
    "        for i, cc in enumerate(c):\n",
    "            patch = vol[cc[0]:cc[0] + 64, cc[1]:cc[1] + 64, cc[2]:cc[2] + 64]\n",
    "            patch_m = mask[cc[0]:cc[0] + 64, cc[1]:cc[1] + 64, cc[2]:cc[2] + 64]\n",
    "\n",
    "            # se guarda como un numpy array compreso\n",
    "            if np.isin(path, train):\n",
    "                np.savez_compressed('./sin_aumentar/train/{}_{}_{}.npz'.format(nn, case, i), vol = patch, mask = patch_m.astype(np.int8))\n",
    "            else:\n",
    "                np.savez_compressed('./sin_aumentar/test/{}_{}_{}.npz'.format(nn, case, i), vol = patch, mask = patch_m.astype(np.int8))"
   ]
  },
  {
   "cell_type": "code",
   "execution_count": null,
   "metadata": {},
   "outputs": [],
   "source": [
    "####################################################################################################\n",
    "####################################################################################################\n",
    "####################################################################################################\n",
    "####################################################################################################"
   ]
  },
  {
   "cell_type": "code",
   "execution_count": 108,
   "metadata": {
    "ExecuteTime": {
     "end_time": "2020-09-15T22:15:30.238851Z",
     "start_time": "2020-09-15T22:15:30.234852Z"
    }
   },
   "outputs": [],
   "source": [
    "paths_sample = [*np.random.choice(train, 100), *np.random.choice(test, 20)]"
   ]
  },
  {
   "cell_type": "code",
   "execution_count": 109,
   "metadata": {
    "ExecuteTime": {
     "end_time": "2020-09-15T22:15:31.077364Z",
     "start_time": "2020-09-15T22:15:31.074363Z"
    }
   },
   "outputs": [],
   "source": [
    "values = np.array([[0, 0, 0], [0, 64, 64], [0, 0, 64], [0, 0, 128]])"
   ]
  },
  {
   "cell_type": "code",
   "execution_count": 110,
   "metadata": {
    "ExecuteTime": {
     "end_time": "2020-09-15T22:15:31.971701Z",
     "start_time": "2020-09-15T22:15:31.966701Z"
    }
   },
   "outputs": [],
   "source": [
    "angles = [0, 90, 180, 270]"
   ]
  },
  {
   "cell_type": "code",
   "execution_count": 111,
   "metadata": {
    "ExecuteTime": {
     "end_time": "2020-09-15T22:43:33.080984Z",
     "start_time": "2020-09-15T22:15:33.782469Z"
    }
   },
   "outputs": [
    {
     "data": {
      "application/vnd.jupyter.widget-view+json": {
       "model_id": "a2235bab1fe8411684b3f09684269164",
       "version_major": 2,
       "version_minor": 0
      },
      "text/plain": [
       "HBox(children=(IntProgress(value=0, max=120), HTML(value='')))"
      ]
     },
     "metadata": {},
     "output_type": "display_data"
    }
   ],
   "source": [
    "n = 1\n",
    "for path in tqdm_notebook(paths_sample):\n",
    "    for nn in range(n):\n",
    "        # cargando coordenadas de los nodulos\n",
    "        dcms = get_dicoms_from_folder(path+'/*.dcm')\n",
    "        vol, spacing = get_vol_from_dcms(dcms)\n",
    "        case = re.search('LIDC-IDRI-(.+?)/', path).group(1)\n",
    "\n",
    "        mask_path = root_mask_path.format(case)\n",
    "\n",
    "        file = np.load(mask_path)\n",
    "        mask = file['mask']\n",
    "        file.close()\n",
    "\n",
    "        c = values[np.random.randint(0, len(values), 1)]\n",
    "    \n",
    "        # recorriendo las nuevas coordenadas y almacenando los cubos de 64x64x64\n",
    "        for i, cc in enumerate(c):\n",
    "            patch = vol[cc[0]:cc[0] + 64, cc[1]:cc[1] + 64, cc[2]:cc[2] + 64]\n",
    "            patch_m = mask[cc[0]:cc[0] + 64, cc[1]:cc[1] + 64, cc[2]:cc[2] + 64]\n",
    "            \n",
    "            angle = np.random.choice(angles)\n",
    "            patch = rotate(patch, angle, (1, 2))\n",
    "            patch_m = rotate(patch_m, angle, (1, 2))\n",
    "\n",
    "            # se guarda como un numpy array compreso\n",
    "            if np.isin(path, train):\n",
    "                np.savez_compressed('./sin_aumentar/train/n_{}_{}_{}.npz'.format(nn, case, i), vol = patch, mask = patch_m.astype(np.int8))\n",
    "            else:\n",
    "                np.savez_compressed('./sin_aumentar/test/n_{}_{}_{}.npz'.format(nn, case, i), vol = patch, mask = patch_m.astype(np.int8))"
   ]
  },
  {
   "cell_type": "code",
   "execution_count": null,
   "metadata": {},
   "outputs": [],
   "source": []
  }
 ],
 "metadata": {
  "kernelspec": {
   "display_name": "Python 3",
   "language": "python",
   "name": "python3"
  },
  "language_info": {
   "codemirror_mode": {
    "name": "ipython",
    "version": 3
   },
   "file_extension": ".py",
   "mimetype": "text/x-python",
   "name": "python",
   "nbconvert_exporter": "python",
   "pygments_lexer": "ipython3",
   "version": "3.6.5"
  },
  "varInspector": {
   "cols": {
    "lenName": 16,
    "lenType": 16,
    "lenVar": 40
   },
   "kernels_config": {
    "python": {
     "delete_cmd_postfix": "",
     "delete_cmd_prefix": "del ",
     "library": "var_list.py",
     "varRefreshCmd": "print(var_dic_list())"
    },
    "r": {
     "delete_cmd_postfix": ") ",
     "delete_cmd_prefix": "rm(",
     "library": "var_list.r",
     "varRefreshCmd": "cat(var_dic_list()) "
    }
   },
   "types_to_exclude": [
    "module",
    "function",
    "builtin_function_or_method",
    "instance",
    "_Feature"
   ],
   "window_display": false
  }
 },
 "nbformat": 4,
 "nbformat_minor": 2
}
