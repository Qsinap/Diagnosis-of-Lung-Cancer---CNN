{
 "cells": [
  {
   "cell_type": "code",
   "execution_count": 1,
   "metadata": {
    "ExecuteTime": {
     "end_time": "2020-08-03T18:36:23.456183Z",
     "start_time": "2020-08-03T18:36:22.736578Z"
    }
   },
   "outputs": [],
   "source": [
    "import numpy as np\n",
    "import os\n",
    "import numpy as np\n",
    "import glob\n",
    "from matplotlib import pyplot as plt\n",
    "from skimage.transform import resize\n",
    "from skimage.measure import label, regionprops\n",
    "import math\n",
    "from glob import glob\n",
    "import re\n",
    "import json"
   ]
  },
  {
   "cell_type": "code",
   "execution_count": 2,
   "metadata": {
    "ExecuteTime": {
     "end_time": "2020-08-03T18:36:26.571309Z",
     "start_time": "2020-08-03T18:36:24.063860Z"
    }
   },
   "outputs": [
    {
     "name": "stderr",
     "output_type": "stream",
     "text": [
      "Using TensorFlow backend.\n",
      "D:\\Programas\\Anaconda3\\lib\\site-packages\\tensorflow\\python\\framework\\dtypes.py:526: FutureWarning: Passing (type, 1) or '1type' as a synonym of type is deprecated; in a future version of numpy, it will be understood as (type, (1,)) / '(1,)type'.\n",
      "  _np_qint8 = np.dtype([(\"qint8\", np.int8, 1)])\n",
      "D:\\Programas\\Anaconda3\\lib\\site-packages\\tensorflow\\python\\framework\\dtypes.py:527: FutureWarning: Passing (type, 1) or '1type' as a synonym of type is deprecated; in a future version of numpy, it will be understood as (type, (1,)) / '(1,)type'.\n",
      "  _np_quint8 = np.dtype([(\"quint8\", np.uint8, 1)])\n",
      "D:\\Programas\\Anaconda3\\lib\\site-packages\\tensorflow\\python\\framework\\dtypes.py:528: FutureWarning: Passing (type, 1) or '1type' as a synonym of type is deprecated; in a future version of numpy, it will be understood as (type, (1,)) / '(1,)type'.\n",
      "  _np_qint16 = np.dtype([(\"qint16\", np.int16, 1)])\n",
      "D:\\Programas\\Anaconda3\\lib\\site-packages\\tensorflow\\python\\framework\\dtypes.py:529: FutureWarning: Passing (type, 1) or '1type' as a synonym of type is deprecated; in a future version of numpy, it will be understood as (type, (1,)) / '(1,)type'.\n",
      "  _np_quint16 = np.dtype([(\"quint16\", np.uint16, 1)])\n",
      "D:\\Programas\\Anaconda3\\lib\\site-packages\\tensorflow\\python\\framework\\dtypes.py:530: FutureWarning: Passing (type, 1) or '1type' as a synonym of type is deprecated; in a future version of numpy, it will be understood as (type, (1,)) / '(1,)type'.\n",
      "  _np_qint32 = np.dtype([(\"qint32\", np.int32, 1)])\n",
      "D:\\Programas\\Anaconda3\\lib\\site-packages\\tensorflow\\python\\framework\\dtypes.py:535: FutureWarning: Passing (type, 1) or '1type' as a synonym of type is deprecated; in a future version of numpy, it will be understood as (type, (1,)) / '(1,)type'.\n",
      "  np_resource = np.dtype([(\"resource\", np.ubyte, 1)])\n"
     ]
    }
   ],
   "source": [
    "from model.MultiResUnet import MultiResUnet\n",
    "from keras.utils import to_categorical\n",
    "from keras.callbacks import ModelCheckpoint, EarlyStopping\n",
    "from keras.utils import Sequence\n",
    "import keras.backend as K\n",
    "\n",
    "import tensorflow as tf\n",
    "from keras.backend.tensorflow_backend import set_session"
   ]
  },
  {
   "cell_type": "code",
   "execution_count": 3,
   "metadata": {
    "ExecuteTime": {
     "end_time": "2020-08-03T18:36:27.314258Z",
     "start_time": "2020-08-03T18:36:26.618302Z"
    }
   },
   "outputs": [],
   "source": [
    "config = tf.ConfigProto()\n",
    "config.gpu_options.allow_growth = True\n",
    "config.allow_soft_placement = True\n",
    "set_session(tf.Session(config=config))"
   ]
  },
  {
   "cell_type": "code",
   "execution_count": 4,
   "metadata": {
    "ExecuteTime": {
     "end_time": "2020-08-03T18:36:27.365654Z",
     "start_time": "2020-08-03T18:36:27.363125Z"
    }
   },
   "outputs": [],
   "source": [
    "n_classes = 2\n",
    "chanels = 1\n",
    "mask_size = np.array([256, 256])"
   ]
  },
  {
   "cell_type": "code",
   "execution_count": 5,
   "metadata": {
    "ExecuteTime": {
     "end_time": "2020-08-03T18:36:27.421126Z",
     "start_time": "2020-08-03T18:36:27.418127Z"
    }
   },
   "outputs": [],
   "source": [
    "def get_data_mask(path):\n",
    "    file = np.load(path)\n",
    "    data = file['data']\n",
    "    mask = file['mask']\n",
    "    file.close()\n",
    "    data = resize(data, mask_size)\n",
    "    mask = resize(mask, mask_size, order=0, anti_aliasing=False, preserve_range=True).astype(np.int16)      \n",
    "    return data, mask"
   ]
  },
  {
   "cell_type": "code",
   "execution_count": 6,
   "metadata": {
    "ExecuteTime": {
     "end_time": "2020-08-03T18:36:27.489315Z",
     "start_time": "2020-08-03T18:36:27.475264Z"
    }
   },
   "outputs": [],
   "source": [
    "class Sequence_data(Sequence):\n",
    "\n",
    "    def __init__(self, data, batch_size):\n",
    "        # recive una lista de rutas de donde están los volumenes como numpy arrays y el batch_size\n",
    "        self.data = data\n",
    "        self.batch_size = batch_size\n",
    "\n",
    "    def __len__(self):\n",
    "        return int(np.ceil(len(self.data) / float(self.batch_size)))\n",
    "\n",
    "    def __getitem__(self, idx):\n",
    "        # lista de rutas para el batch actual\n",
    "        batch_x = self.data[idx * self.batch_size:(idx + 1) * self.batch_size]\n",
    "        \n",
    "        X = []\n",
    "        y = []\n",
    "        \n",
    "        # se cargan los volumenes y las mascaras en sus respectivos arrays\n",
    "        for path in batch_x:\n",
    "            \n",
    "            data, mask = get_data_mask(path)\n",
    "            X.append(data)\n",
    "\n",
    "            temp = to_categorical(mask)\n",
    "            if(temp.shape[2] == 1):\n",
    "                temp = np.concatenate([temp, temp], -1)\n",
    "            y.append(temp)\n",
    "            \n",
    "        X = np.array(X)\n",
    "        y = np.array(y)\n",
    "        \n",
    "        return X.reshape(-1, mask_size[0], mask_size[1], chanels), y.reshape(-1, mask_size[0], mask_size[1], n_classes)\n",
    "    \n",
    "def weighted_categorical_crossentropy(weights):\n",
    "    \"\"\"\n",
    "    A weighted version of keras.objectives.categorical_crossentropy\n",
    "    \n",
    "    Variables:\n",
    "        weights: numpy array of shape (C,) where C is the number of classes\n",
    "    \n",
    "    Usage:\n",
    "        weights = np.array([0.5,2,10]) # Class one at 0.5, class 2 twice the normal weights, class 3 10x.\n",
    "        loss = weighted_categorical_crossentropy(weights)\n",
    "        model.compile(loss=loss,optimizer='adam')\n",
    "    \"\"\"\n",
    "    \n",
    "    weights = K.constant(weights)\n",
    "        \n",
    "    def loss(y_true, y_pred):\n",
    "        # scale predictions so that the class probas of each sample sum to 1\n",
    "        y_pred /= K.sum(y_pred, axis=-1, keepdims=True)\n",
    "        # clip to prevent NaN's and Inf's\n",
    "        y_pred = K.clip(y_pred, K.epsilon(), 1 - K.epsilon())\n",
    "        # calc\n",
    "        loss = y_true * K.log(y_pred) * weights\n",
    "        loss = -K.sum(loss, -1)\n",
    "        return loss\n",
    "    \n",
    "    return loss\n",
    "    \n",
    "def get_model_memory_usage(batch_size, model):\n",
    "    import numpy as np\n",
    "    from keras import backend as K\n",
    "\n",
    "    shapes_mem_count = 0\n",
    "    for l in model.layers:\n",
    "        single_layer_mem = 1\n",
    "        for s in l.output_shape:\n",
    "            if s is None:\n",
    "                continue\n",
    "            single_layer_mem *= s\n",
    "        shapes_mem_count += single_layer_mem\n",
    "\n",
    "    trainable_count = np.sum([K.count_params(p) for p in set(model.trainable_weights)])\n",
    "    non_trainable_count = np.sum([K.count_params(p) for p in set(model.non_trainable_weights)])\n",
    "\n",
    "    number_size = 4.0\n",
    "    if K.floatx() == 'float16':\n",
    "         number_size = 2.0\n",
    "    if K.floatx() == 'float64':\n",
    "         number_size = 8.0\n",
    "\n",
    "    total_memory = number_size*(batch_size*shapes_mem_count + trainable_count + non_trainable_count)\n",
    "    gbytes = np.round(total_memory / (1024.0 ** 3), 3)\n",
    "    return gbytes\n",
    "    \n",
    "def jaccard_distance(y_true, y_pred, smooth=100):\n",
    "    intersection = K.sum(K.abs(y_true * y_pred), axis=-1)\n",
    "    sum_ = K.sum(K.abs(y_true) + K.abs(y_pred), axis=-1)\n",
    "    jac = (intersection + smooth) / (sum_ - intersection + smooth)\n",
    "    return (1 - jac) * smooth"
   ]
  },
  {
   "cell_type": "code",
   "execution_count": 7,
   "metadata": {
    "ExecuteTime": {
     "end_time": "2020-08-03T18:36:28.771611Z",
     "start_time": "2020-08-03T18:36:28.767610Z"
    }
   },
   "outputs": [],
   "source": [
    "def dice_coef(y_true, y_pred, smooth=1e-7):\n",
    "    y_true_f = K.flatten(y_true[...,1:])\n",
    "    y_pred_f = K.flatten(y_pred[...,1:])\n",
    "    intersect = K.sum(y_true_f * y_pred_f, axis=-1)\n",
    "    denom = K.sum(y_true_f + y_pred_f, axis=-1)\n",
    "    return K.mean((2. * intersect / (denom + smooth)))\n",
    "\n",
    "def dice_coef_loss(y_true, y_pred):\n",
    "    return 1 - dice_coef(y_true, y_pred)"
   ]
  },
  {
   "cell_type": "code",
   "execution_count": 8,
   "metadata": {
    "ExecuteTime": {
     "end_time": "2020-08-03T18:36:29.368532Z",
     "start_time": "2020-08-03T18:36:29.311345Z"
    }
   },
   "outputs": [],
   "source": [
    "paths_train = glob('./data/train/*.npz')\n",
    "paths_test = glob('./data/test/*.npz')"
   ]
  },
  {
   "cell_type": "code",
   "execution_count": null,
   "metadata": {
    "ExecuteTime": {
     "end_time": "2020-08-03T18:35:36.087152Z",
     "start_time": "2020-08-03T18:35:30.053987Z"
    }
   },
   "outputs": [],
   "source": [
    "counts = np.zeros(n_classes)\n",
    "n_samples = np.int64()\n",
    "\n",
    "for path in paths_train:\n",
    "    data, mask = get_data_mask(path)\n",
    "    mask = mask.flatten()\n",
    "    n_samples += len(mask)\n",
    "    vals, count = np.unique(mask, return_counts=True)\n",
    "    for i, j in enumerate(vals):\n",
    "        counts[j] = counts[j] + count[i].astype(np.int64)\n",
    "        \n",
    "counts / n_samples\n",
    "weights = n_samples / (n_classes * counts)\n",
    "print('weights:', weights)"
   ]
  },
  {
   "cell_type": "code",
   "execution_count": null,
   "metadata": {
    "ExecuteTime": {
     "end_time": "2020-08-03T18:35:53.410321Z",
     "start_time": "2020-08-03T18:35:53.168532Z"
    }
   },
   "outputs": [],
   "source": [
    "weights.max()"
   ]
  },
  {
   "cell_type": "code",
   "execution_count": null,
   "metadata": {
    "ExecuteTime": {
     "end_time": "2020-08-03T18:35:53.741757Z",
     "start_time": "2020-08-03T18:35:53.727757Z"
    }
   },
   "outputs": [],
   "source": [
    "weights.min()"
   ]
  },
  {
   "cell_type": "code",
   "execution_count": null,
   "metadata": {
    "ExecuteTime": {
     "end_time": "2020-08-03T16:20:54.213408Z",
     "start_time": "2020-08-03T16:20:54.210382Z"
    }
   },
   "outputs": [],
   "source": [
    "weights"
   ]
  },
  {
   "cell_type": "code",
   "execution_count": 9,
   "metadata": {
    "ExecuteTime": {
     "end_time": "2020-08-03T18:36:32.387753Z",
     "start_time": "2020-08-03T18:36:32.384225Z"
    }
   },
   "outputs": [],
   "source": [
    "weights = np.array([0.5, 70])"
   ]
  },
  {
   "cell_type": "code",
   "execution_count": 10,
   "metadata": {
    "ExecuteTime": {
     "end_time": "2020-08-03T18:36:32.835017Z",
     "start_time": "2020-08-03T18:36:32.831999Z"
    }
   },
   "outputs": [],
   "source": [
    "seq_train = Sequence_data(paths_train, 8)\n",
    "seq_test = Sequence_data(paths_test, 8)"
   ]
  },
  {
   "cell_type": "code",
   "execution_count": 11,
   "metadata": {
    "ExecuteTime": {
     "end_time": "2020-08-03T18:36:39.401158Z",
     "start_time": "2020-08-03T18:36:34.079437Z"
    }
   },
   "outputs": [
    {
     "name": "stdout",
     "output_type": "stream",
     "text": [
      "WARNING:tensorflow:From D:\\Programas\\Anaconda3\\lib\\site-packages\\tensorflow\\python\\framework\\op_def_library.py:263: colocate_with (from tensorflow.python.framework.ops) is deprecated and will be removed in a future version.\n",
      "Instructions for updating:\n",
      "Colocations handled automatically by placer.\n"
     ]
    }
   ],
   "source": [
    "model = MultiResUnet(mask_size[0], mask_size[1], chanels, n_classes)"
   ]
  },
  {
   "cell_type": "code",
   "execution_count": 12,
   "metadata": {
    "ExecuteTime": {
     "end_time": "2020-08-03T18:36:39.530856Z",
     "start_time": "2020-08-03T18:36:39.485294Z"
    }
   },
   "outputs": [],
   "source": [
    "model.compile(optimizer='Adadelta', loss=weighted_categorical_crossentropy(weights), metrics=['acc',jaccard_distance, dice_coef])"
   ]
  },
  {
   "cell_type": "code",
   "execution_count": 13,
   "metadata": {
    "ExecuteTime": {
     "end_time": "2020-08-03T18:36:44.755039Z",
     "start_time": "2020-08-03T18:36:44.752062Z"
    }
   },
   "outputs": [],
   "source": [
    "ES = EarlyStopping(patience=10, min_delta=0.00001, restore_best_weights=True)\n",
    "MCP = ModelCheckpoint(filepath=\"./weights/weights.{epoch:02d}.hdf5\", save_best_only=True, save_weights_only=True)\n",
    "callbacks = [ES, MCP]"
   ]
  },
  {
   "cell_type": "code",
   "execution_count": 14,
   "metadata": {
    "ExecuteTime": {
     "end_time": "2020-08-03T18:36:46.224040Z",
     "start_time": "2020-08-03T18:36:46.207040Z"
    }
   },
   "outputs": [
    {
     "data": {
      "text/plain": [
       "7.362"
      ]
     },
     "execution_count": 14,
     "metadata": {},
     "output_type": "execute_result"
    }
   ],
   "source": [
    "get_model_memory_usage(8, model)"
   ]
  },
  {
   "cell_type": "code",
   "execution_count": 15,
   "metadata": {
    "ExecuteTime": {
     "end_time": "2020-08-03T20:36:43.821165Z",
     "start_time": "2020-08-03T18:36:46.559500Z"
    },
    "scrolled": true
   },
   "outputs": [
    {
     "name": "stdout",
     "output_type": "stream",
     "text": [
      "WARNING:tensorflow:From D:\\Programas\\Anaconda3\\lib\\site-packages\\tensorflow\\python\\ops\\math_ops.py:3066: to_int32 (from tensorflow.python.ops.math_ops) is deprecated and will be removed in a future version.\n",
      "Instructions for updating:\n",
      "Use tf.cast instead.\n",
      "Epoch 1/200\n"
     ]
    },
    {
     "name": "stderr",
     "output_type": "stream",
     "text": [
      "D:\\Programas\\Anaconda3\\lib\\site-packages\\skimage\\transform\\_warps.py:105: UserWarning: The default mode, 'constant', will be changed to 'reflect' in skimage 0.15.\n",
      "  warn(\"The default mode, 'constant', will be changed to 'reflect' in \"\n",
      "D:\\Programas\\Anaconda3\\lib\\site-packages\\skimage\\transform\\_warps.py:110: UserWarning: Anti-aliasing will be enabled by default in skimage 0.15 to avoid aliasing artifacts when down-sampling images.\n",
      "  warn(\"Anti-aliasing will be enabled by default in skimage 0.15 to \"\n"
     ]
    },
    {
     "name": "stdout",
     "output_type": "stream",
     "text": [
      "1469/1469 [==============================] - 618s 421ms/step - loss: 0.3048 - acc: 0.8832 - jaccard_distance: 0.7671 - dice_coef: 0.0050 - val_loss: 0.3058 - val_acc: 0.9628 - val_jaccard_distance: 0.5638 - val_dice_coef: 0.0070\n",
      "Epoch 2/200\n",
      "1469/1469 [==============================] - 618s 421ms/step - loss: 0.2039 - acc: 0.9734 - jaccard_distance: 0.4526 - dice_coef: 0.0084 - val_loss: 0.3006 - val_acc: 0.9908 - val_jaccard_distance: 0.2689 - val_dice_coef: 0.0123\n",
      "Epoch 3/200\n",
      "1469/1469 [==============================] - 603s 410ms/step - loss: 0.1875 - acc: 0.9892 - jaccard_distance: 0.2032 - dice_coef: 0.0189 - val_loss: 0.3456 - val_acc: 0.9961 - val_jaccard_distance: 0.1571 - val_dice_coef: 0.0195\n",
      "Epoch 4/200\n",
      "1469/1469 [==============================] - 593s 403ms/step - loss: 0.1894 - acc: 0.9928 - jaccard_distance: 0.1401 - dice_coef: 0.0298 - val_loss: 0.3798 - val_acc: 0.9967 - val_jaccard_distance: 0.1145 - val_dice_coef: 0.0297\n",
      "Epoch 5/200\n",
      "1469/1469 [==============================] - 594s 404ms/step - loss: 0.2040 - acc: 0.9943 - jaccard_distance: 0.1027 - dice_coef: 0.0470 - val_loss: 0.4405 - val_acc: 0.9927 - val_jaccard_distance: 0.0860 - val_dice_coef: 0.0425\n",
      "Epoch 6/200\n",
      "1469/1469 [==============================] - 615s 419ms/step - loss: 0.2181 - acc: 0.9947 - jaccard_distance: 0.0867 - dice_coef: 0.0685 - val_loss: 0.5640 - val_acc: 0.9930 - val_jaccard_distance: 0.0642 - val_dice_coef: 0.0438\n",
      "Epoch 7/200\n",
      "1469/1469 [==============================] - 604s 411ms/step - loss: 0.2141 - acc: 0.9949 - jaccard_distance: 0.0891 - dice_coef: 0.0788 - val_loss: 0.4979 - val_acc: 0.9975 - val_jaccard_distance: 0.0691 - val_dice_coef: 0.0721\n",
      "Epoch 8/200\n",
      "1469/1469 [==============================] - 603s 411ms/step - loss: 0.2204 - acc: 0.9953 - jaccard_distance: 0.0854 - dice_coef: 0.0939 - val_loss: 0.5383 - val_acc: 0.9977 - val_jaccard_distance: 0.0564 - val_dice_coef: 0.0929\n",
      "Epoch 9/200\n",
      "1469/1469 [==============================] - 580s 395ms/step - loss: 0.2198 - acc: 0.9957 - jaccard_distance: 0.0822 - dice_coef: 0.1107 - val_loss: 0.5995 - val_acc: 0.9987 - val_jaccard_distance: 0.0487 - val_dice_coef: 0.1033\n",
      "Epoch 10/200\n",
      "1469/1469 [==============================] - 578s 393ms/step - loss: 0.2375 - acc: 0.9962 - jaccard_distance: 0.0778 - dice_coef: 0.1411 - val_loss: 0.6229 - val_acc: 0.9987 - val_jaccard_distance: 0.0569 - val_dice_coef: 0.1396\n",
      "Epoch 11/200\n",
      "1469/1469 [==============================] - 577s 393ms/step - loss: 0.2524 - acc: 0.9968 - jaccard_distance: 0.0732 - dice_coef: 0.1788 - val_loss: 0.6494 - val_acc: 0.9942 - val_jaccard_distance: 0.0856 - val_dice_coef: 0.0924\n",
      "Epoch 12/200\n",
      "1469/1469 [==============================] - 577s 393ms/step - loss: 0.2432 - acc: 0.9969 - jaccard_distance: 0.0723 - dice_coef: 0.1879 - val_loss: 0.7648 - val_acc: 0.9763 - val_jaccard_distance: 0.1076 - val_dice_coef: 0.0433\n"
     ]
    }
   ],
   "source": [
    "history = model.fit_generator(seq_train, initial_epoch=0, validation_data=seq_test, steps_per_epoch=int(len(paths_train)/8), epochs=200, callbacks=callbacks)"
   ]
  },
  {
   "cell_type": "code",
   "execution_count": 16,
   "metadata": {
    "ExecuteTime": {
     "end_time": "2020-08-03T20:36:44.147165Z",
     "start_time": "2020-08-03T20:36:43.921165Z"
    }
   },
   "outputs": [
    {
     "data": {
      "image/png": "[encoded data removed]",
      "text/plain": [
       "<Figure size 432x288 with 1 Axes>"
      ]
     },
     "metadata": {},
     "output_type": "display_data"
    },
    {
     "data": {
      "image/png": "[encoded data removed]",
      "text/plain": [
       "<Figure size 432x288 with 1 Axes>"
      ]
     },
     "metadata": {},
     "output_type": "display_data"
    },
    {
     "data": {
      "image/png": "[encoded data removed]",
      "text/plain": [
       "<Figure size 432x288 with 1 Axes>"
      ]
     },
     "metadata": {},
     "output_type": "display_data"
    }
   ],
   "source": [
    "plt.plot(history.history['acc'])\n",
    "plt.plot(history.history['val_acc'])\n",
    "plt.title('model accuracy')\n",
    "plt.ylabel('acc')\n",
    "plt.xlabel('epoch')\n",
    "plt.legend(['train', 'test'], loc='upper left')\n",
    "plt.show()\n",
    "# summarize history for loss\n",
    "plt.plot(history.history['loss'])\n",
    "plt.plot(history.history['val_loss'])\n",
    "plt.title('model loss')\n",
    "plt.ylabel('loss')\n",
    "plt.xlabel('epoch')\n",
    "plt.legend(['train', 'test'], loc='upper left')\n",
    "plt.show()\n",
    "\n",
    "plt.plot(history.history['jaccard_distance'])\n",
    "plt.plot(history.history['val_jaccard_distance'])\n",
    "plt.title('jaccard_distance')\n",
    "plt.ylabel('jaccard_distance')\n",
    "plt.xlabel('epoch')\n",
    "plt.legend(['train', 'test'], loc='upper left')\n",
    "plt.show()"
   ]
  },
  {
   "cell_type": "code",
   "execution_count": null,
   "metadata": {
    "ExecuteTime": {
     "end_time": "2020-08-03T18:11:00.794821Z",
     "start_time": "2020-08-03T16:31:26.974Z"
    }
   },
   "outputs": [],
   "source": [
    " "
   ]
  },
  {
   "cell_type": "code",
   "execution_count": null,
   "metadata": {
    "ExecuteTime": {
     "start_time": "2020-08-03T06:58:23.688Z"
    }
   },
   "outputs": [],
   "source": [
    "import subprocess\n",
    "subprocess.call(\"shutdown -s\")"
   ]
  },
  {
   "cell_type": "code",
   "execution_count": null,
   "metadata": {
    "ExecuteTime": {
     "end_time": "2020-08-02T04:13:11.258905Z",
     "start_time": "2020-08-02T04:13:11.255906Z"
    }
   },
   "outputs": [],
   "source": [
    "np.stack([[0,0,0], [0,0,0]], -1).shape"
   ]
  },
  {
   "cell_type": "code",
   "execution_count": null,
   "metadata": {},
   "outputs": [],
   "source": []
  },
  {
   "cell_type": "code",
   "execution_count": null,
   "metadata": {},
   "outputs": [],
   "source": []
  },
  {
   "cell_type": "code",
   "execution_count": 17,
   "metadata": {
    "ExecuteTime": {
     "end_time": "2020-08-03T20:53:45.463084Z",
     "start_time": "2020-08-03T20:53:45.443086Z"
    }
   },
   "outputs": [
    {
     "name": "stderr",
     "output_type": "stream",
     "text": [
      "D:\\Programas\\Anaconda3\\lib\\site-packages\\skimage\\transform\\_warps.py:105: UserWarning: The default mode, 'constant', will be changed to 'reflect' in skimage 0.15.\n",
      "  warn(\"The default mode, 'constant', will be changed to 'reflect' in \"\n",
      "D:\\Programas\\Anaconda3\\lib\\site-packages\\skimage\\transform\\_warps.py:110: UserWarning: Anti-aliasing will be enabled by default in skimage 0.15 to avoid aliasing artifacts when down-sampling images.\n",
      "  warn(\"Anti-aliasing will be enabled by default in skimage 0.15 to \"\n"
     ]
    }
   ],
   "source": [
    "data, mask = get_data_mask('./data/train/10142.npz')"
   ]
  },
  {
   "cell_type": "code",
   "execution_count": 18,
   "metadata": {
    "ExecuteTime": {
     "end_time": "2020-08-03T20:55:24.695967Z",
     "start_time": "2020-08-03T20:55:24.513002Z"
    }
   },
   "outputs": [],
   "source": [
    "model.load_weights('./weights/weights.02.hdf5')"
   ]
  },
  {
   "cell_type": "code",
   "execution_count": 19,
   "metadata": {
    "ExecuteTime": {
     "end_time": "2020-08-03T20:55:28.542612Z",
     "start_time": "2020-08-03T20:55:26.689403Z"
    }
   },
   "outputs": [],
   "source": [
    "pred = model.predict(data.reshape(1, mask_size[0], mask_size[1], 1))[0]"
   ]
  },
  {
   "cell_type": "code",
   "execution_count": 20,
   "metadata": {
    "ExecuteTime": {
     "end_time": "2020-08-03T20:55:29.268697Z",
     "start_time": "2020-08-03T20:55:29.264696Z"
    }
   },
   "outputs": [
    {
     "data": {
      "text/plain": [
       "(256, 256, 2)"
      ]
     },
     "execution_count": 20,
     "metadata": {},
     "output_type": "execute_result"
    }
   ],
   "source": [
    "pred.shape"
   ]
  },
  {
   "cell_type": "code",
   "execution_count": 21,
   "metadata": {
    "ExecuteTime": {
     "end_time": "2020-08-03T20:55:29.540882Z",
     "start_time": "2020-08-03T20:55:29.536881Z"
    }
   },
   "outputs": [
    {
     "data": {
      "text/plain": [
       "0.002362311"
      ]
     },
     "execution_count": 21,
     "metadata": {},
     "output_type": "execute_result"
    }
   ],
   "source": [
    "pred.min()"
   ]
  },
  {
   "cell_type": "code",
   "execution_count": 22,
   "metadata": {
    "ExecuteTime": {
     "end_time": "2020-08-03T20:55:30.147250Z",
     "start_time": "2020-08-03T20:55:30.144247Z"
    }
   },
   "outputs": [
    {
     "data": {
      "text/plain": [
       "1.0"
      ]
     },
     "execution_count": 22,
     "metadata": {},
     "output_type": "execute_result"
    }
   ],
   "source": [
    "pred.max()"
   ]
  },
  {
   "cell_type": "code",
   "execution_count": 23,
   "metadata": {
    "ExecuteTime": {
     "end_time": "2020-08-03T20:55:35.346371Z",
     "start_time": "2020-08-03T20:55:35.216840Z"
    }
   },
   "outputs": [
    {
     "data": {
      "text/plain": [
       "<matplotlib.image.AxesImage at 0x23086fec550>"
      ]
     },
     "execution_count": 23,
     "metadata": {},
     "output_type": "execute_result"
    },
    {
     "data": {
      "image/png": "[encoded data removed]",
      "text/plain": [
       "<Figure size 576x576 with 1 Axes>"
      ]
     },
     "metadata": {},
     "output_type": "display_data"
    }
   ],
   "source": [
    "plt.figure(figsize=(8,8))\n",
    "plt.imshow(pred[..., 1]>0.6)"
   ]
  },
  {
   "cell_type": "code",
   "execution_count": 25,
   "metadata": {
    "ExecuteTime": {
     "end_time": "2020-08-03T20:55:55.606747Z",
     "start_time": "2020-08-03T20:55:55.489217Z"
    }
   },
   "outputs": [
    {
     "data": {
      "text/plain": [
       "<matplotlib.image.AxesImage at 0x2308722b0b8>"
      ]
     },
     "execution_count": 25,
     "metadata": {},
     "output_type": "execute_result"
    },
    {
     "data": {
      "image/png": "[encoded data removed]",
      "text/plain": [
       "<Figure size 576x576 with 1 Axes>"
      ]
     },
     "metadata": {},
     "output_type": "display_data"
    }
   ],
   "source": [
    "plt.figure(figsize=(8,8))\n",
    "plt.imshow(mask)"
   ]
  },
  {
   "cell_type": "code",
   "execution_count": null,
   "metadata": {},
   "outputs": [],
   "source": []
  }
 ],
 "metadata": {
  "kernelspec": {
   "display_name": "Python 3",
   "language": "python",
   "name": "python3"
  },
  "language_info": {
   "codemirror_mode": {
    "name": "ipython",
    "version": 3
   },
   "file_extension": ".py",
   "mimetype": "text/x-python",
   "name": "python",
   "nbconvert_exporter": "python",
   "pygments_lexer": "ipython3",
   "version": "3.6.5"
  },
  "varInspector": {
   "cols": {
    "lenName": 16,
    "lenType": 16,
    "lenVar": 40
   },
   "kernels_config": {
    "python": {
     "delete_cmd_postfix": "",
     "delete_cmd_prefix": "del ",
     "library": "var_list.py",
     "varRefreshCmd": "print(var_dic_list())"
    },
    "r": {
     "delete_cmd_postfix": ") ",
     "delete_cmd_prefix": "rm(",
     "library": "var_list.r",
     "varRefreshCmd": "cat(var_dic_list()) "
    }
   },
   "types_to_exclude": [
    "module",
    "function",
    "builtin_function_or_method",
    "instance",
    "_Feature"
   ],
   "window_display": false
  }
 },
 "nbformat": 4,
 "nbformat_minor": 2
}
