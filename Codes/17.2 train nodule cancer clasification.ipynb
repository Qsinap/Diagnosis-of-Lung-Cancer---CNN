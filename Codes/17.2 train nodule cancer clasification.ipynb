{
 "cells": [
  {
   "cell_type": "code",
   "execution_count": 1,
   "metadata": {
    "ExecuteTime": {
     "end_time": "2020-10-22T21:28:54.882547Z",
     "start_time": "2020-10-22T21:28:51.358009Z"
    }
   },
   "outputs": [],
   "source": [
    "import pandas as pd\n",
    "import numpy as np\n",
    "from scipy.ndimage import zoom, rotate\n",
    "from sklearn.metrics import classification_report, confusion_matrix, accuracy_score"
   ]
  },
  {
   "cell_type": "code",
   "execution_count": 2,
   "metadata": {
    "ExecuteTime": {
     "end_time": "2020-10-22T21:28:59.330869Z",
     "start_time": "2020-10-22T21:28:54.891523Z"
    }
   },
   "outputs": [
    {
     "name": "stderr",
     "output_type": "stream",
     "text": [
      "Using TensorFlow backend.\n",
      "D:\\Programas\\Anaconda3\\lib\\site-packages\\tensorflow\\python\\framework\\dtypes.py:526: FutureWarning: Passing (type, 1) or '1type' as a synonym of type is deprecated; in a future version of numpy, it will be understood as (type, (1,)) / '(1,)type'.\n",
      "  _np_qint8 = np.dtype([(\"qint8\", np.int8, 1)])\n",
      "D:\\Programas\\Anaconda3\\lib\\site-packages\\tensorflow\\python\\framework\\dtypes.py:527: FutureWarning: Passing (type, 1) or '1type' as a synonym of type is deprecated; in a future version of numpy, it will be understood as (type, (1,)) / '(1,)type'.\n",
      "  _np_quint8 = np.dtype([(\"quint8\", np.uint8, 1)])\n",
      "D:\\Programas\\Anaconda3\\lib\\site-packages\\tensorflow\\python\\framework\\dtypes.py:528: FutureWarning: Passing (type, 1) or '1type' as a synonym of type is deprecated; in a future version of numpy, it will be understood as (type, (1,)) / '(1,)type'.\n",
      "  _np_qint16 = np.dtype([(\"qint16\", np.int16, 1)])\n",
      "D:\\Programas\\Anaconda3\\lib\\site-packages\\tensorflow\\python\\framework\\dtypes.py:529: FutureWarning: Passing (type, 1) or '1type' as a synonym of type is deprecated; in a future version of numpy, it will be understood as (type, (1,)) / '(1,)type'.\n",
      "  _np_quint16 = np.dtype([(\"quint16\", np.uint16, 1)])\n",
      "D:\\Programas\\Anaconda3\\lib\\site-packages\\tensorflow\\python\\framework\\dtypes.py:530: FutureWarning: Passing (type, 1) or '1type' as a synonym of type is deprecated; in a future version of numpy, it will be understood as (type, (1,)) / '(1,)type'.\n",
      "  _np_qint32 = np.dtype([(\"qint32\", np.int32, 1)])\n",
      "D:\\Programas\\Anaconda3\\lib\\site-packages\\tensorflow\\python\\framework\\dtypes.py:535: FutureWarning: Passing (type, 1) or '1type' as a synonym of type is deprecated; in a future version of numpy, it will be understood as (type, (1,)) / '(1,)type'.\n",
      "  np_resource = np.dtype([(\"resource\", np.ubyte, 1)])\n"
     ]
    }
   ],
   "source": [
    "from keras.callbacks import ModelCheckpoint, EarlyStopping\n",
    "from keras.utils import Sequence\n",
    "import keras.backend as K\n",
    "\n",
    "import tensorflow as tf\n",
    "from keras.backend.tensorflow_backend import set_session"
   ]
  },
  {
   "cell_type": "code",
   "execution_count": 3,
   "metadata": {
    "ExecuteTime": {
     "end_time": "2020-10-22T21:28:59.467039Z",
     "start_time": "2020-10-22T21:28:59.340873Z"
    }
   },
   "outputs": [],
   "source": [
    "from sklearn.model_selection import train_test_split\n",
    "from sklearn.utils import class_weight"
   ]
  },
  {
   "cell_type": "code",
   "execution_count": 4,
   "metadata": {
    "ExecuteTime": {
     "end_time": "2020-10-22T21:29:07.440943Z",
     "start_time": "2020-10-22T21:28:59.476039Z"
    }
   },
   "outputs": [],
   "source": [
    "config = tf.ConfigProto()\n",
    "config.gpu_options.allow_growth = True\n",
    "config.allow_soft_placement = True\n",
    "set_session(tf.Session(config=config))"
   ]
  },
  {
   "cell_type": "code",
   "execution_count": 5,
   "metadata": {
    "ExecuteTime": {
     "end_time": "2020-10-22T21:29:07.691944Z",
     "start_time": "2020-10-22T21:29:07.474945Z"
    }
   },
   "outputs": [],
   "source": [
    "df = pd.read_csv(\"./csvs/final_data.csv\")"
   ]
  },
  {
   "cell_type": "code",
   "execution_count": 6,
   "metadata": {
    "ExecuteTime": {
     "end_time": "2020-10-22T21:29:07.774948Z",
     "start_time": "2020-10-22T21:29:07.770948Z"
    }
   },
   "outputs": [],
   "source": [
    "agg_func = {'calcification': 'mean', 'internalStructure': 'mean', 'lobulation': 'mean', 'malignancy': 'mean',\n",
    "            'margin': 'mean', 'path': 'first', 'sphericity': 'mean', 'spiculation': 'mean', 'subtlety': 'mean', 'texture': 'mean',\n",
    "            'xf': 'first', 'xi': 'first', 'yf': 'first', 'yi': 'first', 'zf': 'first', 'zi': 'first'}"
   ]
  },
  {
   "cell_type": "code",
   "execution_count": 7,
   "metadata": {
    "ExecuteTime": {
     "end_time": "2020-10-22T21:29:07.846946Z",
     "start_time": "2020-10-22T21:29:07.806945Z"
    }
   },
   "outputs": [],
   "source": [
    "df = df.groupby(\"final_id\").agg(agg_func)"
   ]
  },
  {
   "cell_type": "code",
   "execution_count": 8,
   "metadata": {
    "ExecuteTime": {
     "end_time": "2020-10-22T21:29:08.671945Z",
     "start_time": "2020-10-22T21:29:07.883948Z"
    }
   },
   "outputs": [],
   "source": [
    "df[['calcification', 'internalStructure', 'lobulation', 'malignancy', 'margin', 'sphericity', 'spiculation', 'subtlety', 'texture']] = df[['calcification', 'internalStructure', 'lobulation', 'malignancy', 'margin', 'sphericity', 'spiculation', 'subtlety', 'texture']]/df[['calcification', 'internalStructure', 'lobulation', 'malignancy', 'margin', 'sphericity', 'spiculation', 'subtlety', 'texture']].max()"
   ]
  },
  {
   "cell_type": "code",
   "execution_count": 9,
   "metadata": {
    "ExecuteTime": {
     "end_time": "2020-10-22T21:29:08.719949Z",
     "start_time": "2020-10-22T21:29:08.714945Z"
    }
   },
   "outputs": [],
   "source": [
    "df = df[['path', 'calcification', 'internalStructure', 'lobulation', 'malignancy',\n",
    "       'margin', 'sphericity', 'spiculation', 'subtlety', 'texture']]"
   ]
  },
  {
   "cell_type": "code",
   "execution_count": 10,
   "metadata": {
    "ExecuteTime": {
     "end_time": "2020-10-16T18:59:32.118238Z",
     "start_time": "2020-10-16T18:59:32.107210Z"
    }
   },
   "outputs": [],
   "source": [
    "X_train, X_test, y_train, y_test = train_test_split(df.index.tolist(), df, stratify=df.malignancy, test_size=0.2, random_state=22)\n",
    "\n",
    "ids_train = X_train\n",
    "ids_test = X_test"
   ]
  },
  {
   "cell_type": "code",
   "execution_count": 11,
   "metadata": {
    "ExecuteTime": {
     "end_time": "2020-10-16T18:59:33.028208Z",
     "start_time": "2020-10-16T18:59:33.019209Z"
    }
   },
   "outputs": [],
   "source": [
    "tags_train = (df.loc[ids_train].malignancy.values > 0.5).astype(np.int)"
   ]
  },
  {
   "cell_type": "code",
   "execution_count": 12,
   "metadata": {
    "ExecuteTime": {
     "end_time": "2020-10-16T18:59:34.062209Z",
     "start_time": "2020-10-16T18:59:34.058208Z"
    }
   },
   "outputs": [],
   "source": [
    "class_weights = class_weight.compute_class_weight('balanced',\n",
    "                                                 np.unique(tags_train),\n",
    "                                                 tags_train)"
   ]
  },
  {
   "cell_type": "code",
   "execution_count": 13,
   "metadata": {
    "ExecuteTime": {
     "end_time": "2020-10-16T18:59:34.449211Z",
     "start_time": "2020-10-16T18:59:34.445209Z"
    }
   },
   "outputs": [],
   "source": [
    "n_classes = 1\n",
    "chanels = 1\n",
    "batch_size = 70\n",
    "vol_size = np.array([24, 24, 24])\n",
    "\n",
    "path_base = './nodules/{}.npz'"
   ]
  },
  {
   "cell_type": "code",
   "execution_count": 14,
   "metadata": {
    "ExecuteTime": {
     "end_time": "2020-10-16T18:59:35.342208Z",
     "start_time": "2020-10-16T18:59:35.338211Z"
    }
   },
   "outputs": [],
   "source": [
    "def normalize(npzarray):\n",
    "    maxHU = 400.\n",
    "    minHU = -1000.\n",
    "    npzarray = (npzarray - minHU) / (maxHU - minHU)\n",
    "    npzarray = np.clip(npzarray, 0, 1)\n",
    "    return npzarray"
   ]
  },
  {
   "cell_type": "code",
   "execution_count": 15,
   "metadata": {
    "ExecuteTime": {
     "end_time": "2020-10-16T18:59:35.585210Z",
     "start_time": "2020-10-16T18:59:35.581211Z"
    }
   },
   "outputs": [],
   "source": [
    "def get_data(nodule_id):\n",
    "    tag = int(df.loc[nodule_id].malignancy > 0.5)\n",
    "    \n",
    "    file = np.load(path_base.format(nodule_id))\n",
    "    vol = file['patch']\n",
    "    file.close()\n",
    "    \n",
    "    vol = normalize(vol)\n",
    "    vol = zoom(vol, vol_size/np.array(vol.shape), order=0)\n",
    "    return vol, tag"
   ]
  },
  {
   "cell_type": "code",
   "execution_count": 16,
   "metadata": {
    "ExecuteTime": {
     "end_time": "2020-10-16T18:59:42.990209Z",
     "start_time": "2020-10-16T18:59:42.986208Z"
    }
   },
   "outputs": [],
   "source": [
    "#degrees = [0, 90, -90]\n",
    "degrees = [0, 90, -90, 80, -80, 70, -70]\n",
    "axis = [0, 1, 2]"
   ]
  },
  {
   "cell_type": "code",
   "execution_count": 17,
   "metadata": {
    "ExecuteTime": {
     "end_time": "2020-10-16T18:59:45.039210Z",
     "start_time": "2020-10-16T18:59:45.035208Z"
    }
   },
   "outputs": [],
   "source": [
    "def get_random_params():\n",
    "    d = np.random.choice(degrees)\n",
    "    a = np.random.choice(axis, size=2, replace=False)\n",
    "    return d, a"
   ]
  },
  {
   "cell_type": "code",
   "execution_count": 18,
   "metadata": {
    "ExecuteTime": {
     "end_time": "2020-10-16T18:59:47.983212Z",
     "start_time": "2020-10-16T18:59:47.978208Z"
    }
   },
   "outputs": [],
   "source": [
    "class Sequence_data(Sequence):\n",
    "\n",
    "    def __init__(self, data, batch_size, is_training):\n",
    "        # recive una lista de rutas de donde están los volumenes como numpy arrays y el batch_size\n",
    "        self.data = data\n",
    "        self.batch_size = batch_size\n",
    "        self.is_training = is_training\n",
    "\n",
    "    def __len__(self):\n",
    "        return int(np.ceil(len(self.data) / float(self.batch_size)))\n",
    "\n",
    "    def __getitem__(self, idx):\n",
    "        # lista de rutas para el batch actual\n",
    "        batch_x = self.data[idx * self.batch_size:(idx + 1) * self.batch_size]\n",
    "        \n",
    "        X = []\n",
    "        y = []\n",
    "        \n",
    "        # se cargan los volumenes y las mascaras en sus respectivos arrays\n",
    "        for path in batch_x:\n",
    "            data, tag = get_data(path)\n",
    "            d, a = get_random_params()\n",
    "            if self.is_training:\n",
    "                data = rotate(data, d, a, reshape=False)\n",
    "            X.append(data)\n",
    "            \n",
    "            temp_y = [0, 0]\n",
    "            temp_y[tag] = 1\n",
    "            \n",
    "            y.append(temp_y)\n",
    "            \n",
    "        X = np.array(X)\n",
    "        y = np.array(y)\n",
    "        \n",
    "        try:\n",
    "            resahped = X.reshape((*X.shape, chanels)), y#.reshape(-1, n_classes)\n",
    "        except Exception as ex:\n",
    "            print('ojooooooo')\n",
    "            print(batch_x, ex)\n",
    "        return resahped"
   ]
  },
  {
   "cell_type": "code",
   "execution_count": 19,
   "metadata": {
    "ExecuteTime": {
     "end_time": "2020-10-16T18:59:49.053211Z",
     "start_time": "2020-10-16T18:59:49.050208Z"
    }
   },
   "outputs": [],
   "source": [
    "np.random.shuffle(ids_train)\n",
    "np.random.shuffle(ids_test)"
   ]
  },
  {
   "cell_type": "code",
   "execution_count": 20,
   "metadata": {
    "ExecuteTime": {
     "end_time": "2020-10-16T18:59:49.504209Z",
     "start_time": "2020-10-16T18:59:49.501215Z"
    }
   },
   "outputs": [],
   "source": [
    "seq_train = Sequence_data(ids_train, batch_size, True)\n",
    "seq_test = Sequence_data(ids_test, batch_size, False)"
   ]
  },
  {
   "cell_type": "code",
   "execution_count": 21,
   "metadata": {
    "ExecuteTime": {
     "end_time": "2020-10-16T18:59:49.885213Z",
     "start_time": "2020-10-16T18:59:49.881208Z"
    }
   },
   "outputs": [],
   "source": [
    "from keras.models import Model\n",
    "from keras.layers import Dense, Dropout, BatchNormalization, GlobalAveragePooling3D, Flatten\n",
    "from keras.layers import MaxPool3D, Conv3D, Input\n",
    "from keras.optimizers import SGD"
   ]
  },
  {
   "cell_type": "code",
   "execution_count": 22,
   "metadata": {
    "ExecuteTime": {
     "end_time": "2020-10-16T18:59:50.079211Z",
     "start_time": "2020-10-16T18:59:50.071209Z"
    }
   },
   "outputs": [],
   "source": [
    "def get_model(size = (128, 128, 64)):\n",
    "    \n",
    "    width, height, depth = size\n",
    "\n",
    "    inputs = Input((width, height, depth, 1))\n",
    "\n",
    "    x = Conv3D(filters=128, kernel_size=3, activation=\"relu\")(inputs)\n",
    "    x = BatchNormalization()(x)\n",
    "    x = Conv3D(filters=128, kernel_size=3, activation=\"relu\")(inputs)\n",
    "    x = BatchNormalization()(x)\n",
    "    x = Conv3D(filters=128, kernel_size=3, activation=\"relu\")(inputs)\n",
    "    x = BatchNormalization()(x)\n",
    "    x = MaxPool3D(pool_size=2)(x)\n",
    "    \n",
    "    x = Conv3D(filters=128, kernel_size=3, activation=\"relu\")(inputs)\n",
    "    x = BatchNormalization()(x)\n",
    "    x = Conv3D(filters=128, kernel_size=3, activation=\"relu\")(inputs)\n",
    "    x = BatchNormalization()(x)\n",
    "    x = Conv3D(filters=128, kernel_size=3, activation=\"relu\")(inputs)\n",
    "    x = BatchNormalization()(x)\n",
    "    x = MaxPool3D(pool_size=2)(x)\n",
    "    \n",
    "    x = Conv3D(filters=128, kernel_size=3, activation=\"relu\")(inputs)\n",
    "    x = BatchNormalization()(x)\n",
    "    x = Conv3D(filters=128, kernel_size=3, activation=\"relu\")(inputs)\n",
    "    x = BatchNormalization()(x)\n",
    "    x = Conv3D(filters=128, kernel_size=3, activation=\"relu\")(inputs)\n",
    "    x = BatchNormalization()(x)\n",
    "    \n",
    "    x = Flatten()(x)\n",
    "    outputs = Dense(units=2, activation=\"softmax\")(x)\n",
    "\n",
    "    # Define the model.\n",
    "    model = Model(inputs, outputs, name=\"3dcnn\")\n",
    "    return model"
   ]
  },
  {
   "cell_type": "code",
   "execution_count": 23,
   "metadata": {
    "ExecuteTime": {
     "end_time": "2020-10-16T18:59:51.279208Z",
     "start_time": "2020-10-16T18:59:50.291211Z"
    }
   },
   "outputs": [
    {
     "name": "stdout",
     "output_type": "stream",
     "text": [
      "WARNING:tensorflow:From D:\\Programas\\Anaconda3\\lib\\site-packages\\tensorflow\\python\\framework\\op_def_library.py:263: colocate_with (from tensorflow.python.framework.ops) is deprecated and will be removed in a future version.\n",
      "Instructions for updating:\n",
      "Colocations handled automatically by placer.\n"
     ]
    }
   ],
   "source": [
    "model = get_model(vol_size)"
   ]
  },
  {
   "cell_type": "code",
   "execution_count": 24,
   "metadata": {
    "ExecuteTime": {
     "end_time": "2020-10-16T18:59:51.464211Z",
     "start_time": "2020-10-16T18:59:51.461209Z"
    }
   },
   "outputs": [],
   "source": [
    "#model.save('./cancer_model.hdf5')"
   ]
  },
  {
   "cell_type": "raw",
   "metadata": {
    "ExecuteTime": {
     "end_time": "2020-09-30T14:28:46.978073Z",
     "start_time": "2020-09-30T14:28:46.976067Z"
    }
   },
   "source": [
    "model = Sequential()"
   ]
  },
  {
   "cell_type": "raw",
   "metadata": {
    "ExecuteTime": {
     "end_time": "2020-09-30T14:28:47.468878Z",
     "start_time": "2020-09-30T14:28:47.375893Z"
    }
   },
   "source": [
    "model.add(Convolution3D(32, 3, activation='relu', input_shape=(*vol_size, chanels), padding=\"same\"))\n",
    "model.add(Convolution3D(32, 3, activation='relu', input_shape=(*vol_size, chanels), padding=\"same\"))\n",
    "model.add(MaxPooling3D(pool_size=2))\n",
    "model.add(Convolution3D(16, 3, activation='relu', input_shape=(*vol_size, chanels), padding=\"same\"))\n",
    "model.add(MaxPooling3D(pool_size=2))\n",
    "model.add(Convolution3D(8, 3, activation='relu', input_shape=(*vol_size, chanels), padding=\"same\"))\n",
    "model.add(MaxPooling3D(pool_size=2))\n",
    "model.add(Convolution3D(4, 3, activation='relu', input_shape=(*vol_size, chanels), padding=\"same\"))\n",
    "model.add(Convolution3D(1, 1, activation='relu', input_shape=(*vol_size, chanels), padding=\"same\"))\n",
    "model.add(Flatten())\n",
    "model.add(Dense(100, activation='relu'))\n",
    "model.add(Dense(50, activation='relu'))\n",
    "model.add(Dense(1, activation='sigmoid'))"
   ]
  },
  {
   "cell_type": "code",
   "execution_count": 25,
   "metadata": {
    "ExecuteTime": {
     "end_time": "2020-10-16T18:59:51.875206Z",
     "start_time": "2020-10-16T18:59:51.834210Z"
    }
   },
   "outputs": [],
   "source": [
    "model.compile(loss='binary_crossentropy', optimizer=SGD(lr=0.0001), metrics=['accuracy'])"
   ]
  },
  {
   "cell_type": "code",
   "execution_count": 26,
   "metadata": {
    "ExecuteTime": {
     "end_time": "2020-10-16T18:59:52.350211Z",
     "start_time": "2020-10-16T18:59:52.347209Z"
    }
   },
   "outputs": [],
   "source": [
    "ES = EarlyStopping(patience=20, min_delta=0.00001, restore_best_weights=True)\n",
    "MCP = ModelCheckpoint(filepath=\"./weights_cancer/weights_2.{epoch:02d}.hdf5\", save_best_only=True, save_weights_only=True)\n",
    "callbacks = [ES, MCP]"
   ]
  },
  {
   "cell_type": "code",
   "execution_count": 27,
   "metadata": {
    "ExecuteTime": {
     "end_time": "2020-10-16T19:09:00.782370Z",
     "start_time": "2020-10-16T18:59:52.682207Z"
    },
    "scrolled": false
   },
   "outputs": [
    {
     "name": "stdout",
     "output_type": "stream",
     "text": [
      "WARNING:tensorflow:From D:\\Programas\\Anaconda3\\lib\\site-packages\\tensorflow\\python\\ops\\math_ops.py:3066: to_int32 (from tensorflow.python.ops.math_ops) is deprecated and will be removed in a future version.\n",
      "Instructions for updating:\n",
      "Use tf.cast instead.\n",
      "Epoch 1/200\n"
     ]
    },
    {
     "name": "stderr",
     "output_type": "stream",
     "text": [
      "D:\\Programas\\Anaconda3\\lib\\site-packages\\scipy\\ndimage\\interpolation.py:583: UserWarning: From scipy 0.13.0, the output shape of zoom() is calculated with round() instead of int() - for these inputs the size of the returned array has changed.\n",
      "  \"the returned array has changed.\", UserWarning)\n"
     ]
    },
    {
     "name": "stdout",
     "output_type": "stream",
     "text": [
      "30/30 [==============================] - 12s 409ms/step - loss: 0.8920 - acc: 0.5392 - val_loss: 0.8999 - val_acc: 0.5632\n",
      "Epoch 2/200\n",
      "30/30 [==============================] - 12s 384ms/step - loss: 0.9241 - acc: 0.5274 - val_loss: 0.6997 - val_acc: 0.6041\n",
      "Epoch 3/200\n",
      "30/30 [==============================] - 11s 360ms/step - loss: 0.8786 - acc: 0.5492 - val_loss: 0.7019 - val_acc: 0.5613\n",
      "Epoch 4/200\n",
      "30/30 [==============================] - 11s 355ms/step - loss: 0.8423 - acc: 0.5508 - val_loss: 0.7877 - val_acc: 0.5929\n",
      "Epoch 5/200\n",
      "30/30 [==============================] - 11s 355ms/step - loss: 0.7689 - acc: 0.5782 - val_loss: 0.7183 - val_acc: 0.6041\n",
      "Epoch 6/200\n",
      "30/30 [==============================] - 12s 392ms/step - loss: 0.7529 - acc: 0.5720 - val_loss: 0.7870 - val_acc: 0.5167\n",
      "Epoch 7/200\n",
      "30/30 [==============================] - 12s 416ms/step - loss: 0.7681 - acc: 0.5794 - val_loss: 0.6819 - val_acc: 0.6078\n",
      "Epoch 8/200\n",
      "30/30 [==============================] - 12s 389ms/step - loss: 0.7089 - acc: 0.6053 - val_loss: 0.7943 - val_acc: 0.5948\n",
      "Epoch 9/200\n",
      "30/30 [==============================] - 12s 408ms/step - loss: 0.7522 - acc: 0.5900 - val_loss: 0.6952 - val_acc: 0.5762\n",
      "Epoch 10/200\n",
      "30/30 [==============================] - 13s 427ms/step - loss: 0.6659 - acc: 0.6210 - val_loss: 0.7794 - val_acc: 0.5390\n",
      "Epoch 11/200\n",
      "30/30 [==============================] - 12s 394ms/step - loss: 0.6795 - acc: 0.6157 - val_loss: 0.6881 - val_acc: 0.5967\n",
      "Epoch 12/200\n",
      "30/30 [==============================] - 22s 750ms/step - loss: 0.7051 - acc: 0.5911 - val_loss: 0.6754 - val_acc: 0.5911\n",
      "Epoch 13/200\n",
      "30/30 [==============================] - 15s 488ms/step - loss: 0.6907 - acc: 0.6135 - val_loss: 0.7978 - val_acc: 0.4944\n",
      "Epoch 14/200\n",
      "30/30 [==============================] - 11s 356ms/step - loss: 0.7216 - acc: 0.5831 - val_loss: 0.8545 - val_acc: 0.5112\n",
      "Epoch 15/200\n",
      "30/30 [==============================] - 12s 385ms/step - loss: 0.6748 - acc: 0.6210 - val_loss: 0.7003 - val_acc: 0.5632\n",
      "Epoch 16/200\n",
      "30/30 [==============================] - 11s 367ms/step - loss: 0.6487 - acc: 0.6248 - val_loss: 0.6817 - val_acc: 0.5651\n",
      "Epoch 17/200\n",
      "30/30 [==============================] - 12s 410ms/step - loss: 0.6466 - acc: 0.6168 - val_loss: 0.6690 - val_acc: 0.6171\n",
      "Epoch 18/200\n",
      "30/30 [==============================] - 12s 388ms/step - loss: 0.6609 - acc: 0.6058 - val_loss: 0.6919 - val_acc: 0.5948\n",
      "Epoch 19/200\n",
      "30/30 [==============================] - 11s 363ms/step - loss: 0.6608 - acc: 0.6038 - val_loss: 0.6550 - val_acc: 0.6227\n",
      "Epoch 20/200\n",
      "30/30 [==============================] - 11s 374ms/step - loss: 0.6643 - acc: 0.6211 - val_loss: 0.6549 - val_acc: 0.6301\n",
      "Epoch 21/200\n",
      "30/30 [==============================] - 11s 357ms/step - loss: 0.6272 - acc: 0.6448 - val_loss: 0.6683 - val_acc: 0.5855\n",
      "Epoch 22/200\n",
      "30/30 [==============================] - 11s 382ms/step - loss: 0.6363 - acc: 0.6367 - val_loss: 0.6993 - val_acc: 0.5651\n",
      "Epoch 23/200\n",
      "30/30 [==============================] - 12s 417ms/step - loss: 0.6419 - acc: 0.6261 - val_loss: 0.6560 - val_acc: 0.6394\n",
      "Epoch 24/200\n",
      "30/30 [==============================] - 11s 356ms/step - loss: 0.6383 - acc: 0.6372 - val_loss: 0.6531 - val_acc: 0.6283\n",
      "Epoch 25/200\n",
      "30/30 [==============================] - 11s 350ms/step - loss: 0.6222 - acc: 0.6579 - val_loss: 0.6503 - val_acc: 0.6375\n",
      "Epoch 26/200\n",
      "30/30 [==============================] - 11s 361ms/step - loss: 0.6427 - acc: 0.6392 - val_loss: 0.6424 - val_acc: 0.6227\n",
      "Epoch 27/200\n",
      "30/30 [==============================] - 11s 381ms/step - loss: 0.6422 - acc: 0.6286 - val_loss: 0.6704 - val_acc: 0.5799\n",
      "Epoch 28/200\n",
      "30/30 [==============================] - 12s 384ms/step - loss: 0.6369 - acc: 0.6311 - val_loss: 0.6598 - val_acc: 0.6171\n",
      "Epoch 29/200\n",
      "30/30 [==============================] - 12s 394ms/step - loss: 0.6353 - acc: 0.6181 - val_loss: 0.6600 - val_acc: 0.6283\n",
      "Epoch 30/200\n",
      "30/30 [==============================] - 11s 378ms/step - loss: 0.6458 - acc: 0.6243 - val_loss: 0.6605 - val_acc: 0.6468\n",
      "Epoch 31/200\n",
      "30/30 [==============================] - 11s 363ms/step - loss: 0.6287 - acc: 0.6489 - val_loss: 0.6806 - val_acc: 0.5688\n",
      "Epoch 32/200\n",
      "30/30 [==============================] - 11s 359ms/step - loss: 0.6275 - acc: 0.6405 - val_loss: 0.7192 - val_acc: 0.5297\n",
      "Epoch 33/200\n",
      "30/30 [==============================] - 11s 357ms/step - loss: 0.6302 - acc: 0.6416 - val_loss: 0.6574 - val_acc: 0.6208\n",
      "Epoch 34/200\n",
      "30/30 [==============================] - 11s 367ms/step - loss: 0.6162 - acc: 0.6603 - val_loss: 0.6522 - val_acc: 0.6152\n",
      "Epoch 35/200\n",
      "30/30 [==============================] - 12s 386ms/step - loss: 0.6220 - acc: 0.6384 - val_loss: 0.6650 - val_acc: 0.5781\n",
      "Epoch 36/200\n",
      "30/30 [==============================] - 11s 371ms/step - loss: 0.6188 - acc: 0.6597 - val_loss: 0.6685 - val_acc: 0.6022\n",
      "Epoch 37/200\n",
      "30/30 [==============================] - 11s 381ms/step - loss: 0.6103 - acc: 0.6477 - val_loss: 0.7029 - val_acc: 0.5483\n",
      "Epoch 38/200\n",
      "30/30 [==============================] - 11s 368ms/step - loss: 0.6223 - acc: 0.6424 - val_loss: 0.6510 - val_acc: 0.6245\n",
      "Epoch 39/200\n",
      "30/30 [==============================] - 11s 374ms/step - loss: 0.6033 - acc: 0.6649 - val_loss: 0.6663 - val_acc: 0.5985\n",
      "Epoch 40/200\n",
      "30/30 [==============================] - 12s 386ms/step - loss: 0.6224 - acc: 0.6472 - val_loss: 0.6512 - val_acc: 0.6338\n",
      "Epoch 41/200\n",
      "30/30 [==============================] - 12s 407ms/step - loss: 0.6087 - acc: 0.6719 - val_loss: 0.6903 - val_acc: 0.5781\n",
      "Epoch 42/200\n",
      "30/30 [==============================] - 11s 375ms/step - loss: 0.6069 - acc: 0.6544 - val_loss: 0.6591 - val_acc: 0.6059\n",
      "Epoch 43/200\n",
      "30/30 [==============================] - 12s 412ms/step - loss: 0.6183 - acc: 0.6510 - val_loss: 0.6729 - val_acc: 0.5781\n",
      "Epoch 44/200\n",
      "30/30 [==============================] - 11s 364ms/step - loss: 0.5963 - acc: 0.6706 - val_loss: 0.6729 - val_acc: 0.6190\n",
      "Epoch 45/200\n",
      "30/30 [==============================] - 12s 389ms/step - loss: 0.6131 - acc: 0.6521 - val_loss: 0.6507 - val_acc: 0.6022\n",
      "Epoch 46/200\n",
      "30/30 [==============================] - 12s 411ms/step - loss: 0.5960 - acc: 0.6734 - val_loss: 0.7081 - val_acc: 0.5409\n"
     ]
    }
   ],
   "source": [
    "history = model.fit_generator(seq_train, validation_data=seq_test,  class_weight=class_weights , steps_per_epoch=int(len(ids_train)/batch_size), epochs=200, callbacks=callbacks)"
   ]
  },
  {
   "cell_type": "code",
   "execution_count": 28,
   "metadata": {
    "ExecuteTime": {
     "end_time": "2020-10-16T19:09:02.341397Z",
     "start_time": "2020-10-16T19:09:01.014379Z"
    }
   },
   "outputs": [
    {
     "name": "stderr",
     "output_type": "stream",
     "text": [
      "D:\\Programas\\Anaconda3\\lib\\site-packages\\scipy\\ndimage\\interpolation.py:583: UserWarning: From scipy 0.13.0, the output shape of zoom() is calculated with round() instead of int() - for these inputs the size of the returned array has changed.\n",
      "  \"the returned array has changed.\", UserWarning)\n"
     ]
    }
   ],
   "source": [
    "pred = model.predict_generator(seq_test)"
   ]
  },
  {
   "cell_type": "code",
   "execution_count": 29,
   "metadata": {
    "ExecuteTime": {
     "end_time": "2020-10-16T19:09:02.531372Z",
     "start_time": "2020-10-16T19:09:02.524371Z"
    }
   },
   "outputs": [],
   "source": [
    "tags = (df.loc[ids_test].malignancy.values > 0.5).astype(np.int)"
   ]
  },
  {
   "cell_type": "code",
   "execution_count": 30,
   "metadata": {
    "ExecuteTime": {
     "end_time": "2020-10-16T19:09:02.721373Z",
     "start_time": "2020-10-16T19:09:02.715374Z"
    }
   },
   "outputs": [
    {
     "name": "stdout",
     "output_type": "stream",
     "text": [
      "             precision    recall  f1-score   support\n",
      "\n",
      "          0       0.55      0.56      0.56       227\n",
      "          1       0.68      0.67      0.67       311\n",
      "\n",
      "avg / total       0.62      0.62      0.62       538\n",
      "\n"
     ]
    }
   ],
   "source": [
    "print(classification_report(tags, (pred.argmax(-1) > 0.5).astype(np.int).flatten()))"
   ]
  },
  {
   "cell_type": "code",
   "execution_count": 38,
   "metadata": {
    "ExecuteTime": {
     "end_time": "2020-10-16T16:33:47.524382Z",
     "start_time": "2020-10-16T16:33:47.520381Z"
    }
   },
   "outputs": [
    {
     "name": "stdout",
     "output_type": "stream",
     "text": [
      "0.7063197026022305\n"
     ]
    }
   ],
   "source": [
    "print(accuracy_score(tags, (pred.argmax(-1) > 0.5).astype(np.int).flatten()))"
   ]
  },
  {
   "cell_type": "code",
   "execution_count": null,
   "metadata": {},
   "outputs": [],
   "source": []
  }
 ],
 "metadata": {
  "kernelspec": {
   "display_name": "Python 3",
   "language": "python",
   "name": "python3"
  },
  "language_info": {
   "codemirror_mode": {
    "name": "ipython",
    "version": 3
   },
   "file_extension": ".py",
   "mimetype": "text/x-python",
   "name": "python",
   "nbconvert_exporter": "python",
   "pygments_lexer": "ipython3",
   "version": "3.6.5"
  },
  "varInspector": {
   "cols": {
    "lenName": 16,
    "lenType": 16,
    "lenVar": 40
   },
   "kernels_config": {
    "python": {
     "delete_cmd_postfix": "",
     "delete_cmd_prefix": "del ",
     "library": "var_list.py",
     "varRefreshCmd": "print(var_dic_list())"
    },
    "r": {
     "delete_cmd_postfix": ") ",
     "delete_cmd_prefix": "rm(",
     "library": "var_list.r",
     "varRefreshCmd": "cat(var_dic_list()) "
    }
   },
   "types_to_exclude": [
    "module",
    "function",
    "builtin_function_or_method",
    "instance",
    "_Feature"
   ],
   "window_display": false
  }
 },
 "nbformat": 4,
 "nbformat_minor": 2
}
