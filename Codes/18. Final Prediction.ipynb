{
 "cells": [
  {
   "cell_type": "code",
   "execution_count": 1,
   "metadata": {
    "ExecuteTime": {
     "end_time": "2020-10-08T16:10:23.588468Z",
     "start_time": "2020-10-08T16:10:19.934499Z"
    }
   },
   "outputs": [
    {
     "name": "stderr",
     "output_type": "stream",
     "text": [
      "Using TensorFlow backend.\n",
      "D:\\Programas\\Anaconda3\\lib\\site-packages\\tensorflow\\python\\framework\\dtypes.py:526: FutureWarning: Passing (type, 1) or '1type' as a synonym of type is deprecated; in a future version of numpy, it will be understood as (type, (1,)) / '(1,)type'.\n",
      "  _np_qint8 = np.dtype([(\"qint8\", np.int8, 1)])\n",
      "D:\\Programas\\Anaconda3\\lib\\site-packages\\tensorflow\\python\\framework\\dtypes.py:527: FutureWarning: Passing (type, 1) or '1type' as a synonym of type is deprecated; in a future version of numpy, it will be understood as (type, (1,)) / '(1,)type'.\n",
      "  _np_quint8 = np.dtype([(\"quint8\", np.uint8, 1)])\n",
      "D:\\Programas\\Anaconda3\\lib\\site-packages\\tensorflow\\python\\framework\\dtypes.py:528: FutureWarning: Passing (type, 1) or '1type' as a synonym of type is deprecated; in a future version of numpy, it will be understood as (type, (1,)) / '(1,)type'.\n",
      "  _np_qint16 = np.dtype([(\"qint16\", np.int16, 1)])\n",
      "D:\\Programas\\Anaconda3\\lib\\site-packages\\tensorflow\\python\\framework\\dtypes.py:529: FutureWarning: Passing (type, 1) or '1type' as a synonym of type is deprecated; in a future version of numpy, it will be understood as (type, (1,)) / '(1,)type'.\n",
      "  _np_quint16 = np.dtype([(\"quint16\", np.uint16, 1)])\n",
      "D:\\Programas\\Anaconda3\\lib\\site-packages\\tensorflow\\python\\framework\\dtypes.py:530: FutureWarning: Passing (type, 1) or '1type' as a synonym of type is deprecated; in a future version of numpy, it will be understood as (type, (1,)) / '(1,)type'.\n",
      "  _np_qint32 = np.dtype([(\"qint32\", np.int32, 1)])\n",
      "D:\\Programas\\Anaconda3\\lib\\site-packages\\tensorflow\\python\\framework\\dtypes.py:535: FutureWarning: Passing (type, 1) or '1type' as a synonym of type is deprecated; in a future version of numpy, it will be understood as (type, (1,)) / '(1,)type'.\n",
      "  np_resource = np.dtype([(\"resource\", np.ubyte, 1)])\n"
     ]
    }
   ],
   "source": [
    "import numpy as np\n",
    "from keras import backend as K\n",
    "import tensorflow as tf\n",
    "from keras.models import load_model\n",
    "from scipy.ndimage import zoom, rank_filter, find_objects\n",
    "import json\n",
    "import copy\n",
    "from utils import get_dicoms_from_folder, get_uid, getBase, get_blob_service, save_dcms, get_dicom_from_storage, insert_prediction, get_container_and_queue, push_message, get_vol_from_dcms"
   ]
  },
  {
   "cell_type": "code",
   "execution_count": 2,
   "metadata": {
    "ExecuteTime": {
     "end_time": "2020-10-08T16:10:24.296457Z",
     "start_time": "2020-10-08T16:10:23.619831Z"
    }
   },
   "outputs": [],
   "source": [
    "from skimage.measure import label, regionprops"
   ]
  },
  {
   "cell_type": "code",
   "execution_count": 3,
   "metadata": {
    "ExecuteTime": {
     "end_time": "2020-10-08T16:10:25.192929Z",
     "start_time": "2020-10-08T16:10:24.324489Z"
    }
   },
   "outputs": [],
   "source": [
    "config = tf.ConfigProto()\n",
    "config.gpu_options.allow_growth = True\n",
    "config.allow_soft_placement = True\n",
    "K.set_session(tf.Session(config=config))"
   ]
  },
  {
   "cell_type": "code",
   "execution_count": 4,
   "metadata": {
    "ExecuteTime": {
     "end_time": "2020-10-08T16:10:25.226952Z",
     "start_time": "2020-10-08T16:10:25.221948Z"
    }
   },
   "outputs": [],
   "source": [
    "data = {\"uuid\": '6150a4eb-c677a15d-905434ad-527a3c5e', \"company_id\": 1}\n",
    "uuid = data['uuid']\n",
    "company_id = data['company_id']"
   ]
  },
  {
   "cell_type": "code",
   "execution_count": 5,
   "metadata": {
    "ExecuteTime": {
     "end_time": "2020-10-08T16:10:26.815456Z",
     "start_time": "2020-10-08T16:10:25.257644Z"
    }
   },
   "outputs": [],
   "source": [
    "dbConectionString = 'DRIVER=ODBC Driver 17 for SQL Server;SERVER=indiradb.database.windows.net;DATABASE={0};UID=indira;PWD=1ndir42019*'\n",
    "container_security = 'indira-security'\n",
    "\n",
    "blobStorageConnectionString = \"DefaultEndpointsProtocol=https;AccountName=indirapacsadmin;AccountKey=h7KcU6C6Es/7bu2jyLIZKipCbw1397VUtQYh4GguNUsL3ISerjaPsLWZsmbnNYGifJHlVjz0djA+p8HlmPxCMA==;EndpointSuffix=core.windows.net\"\n",
    "container_name = \"iastorage\"\n",
    "\n",
    "serviceBusConnectionString = 'Endpoint=sb://indira-bus.servicebus.windows.net/;SharedAccessKeyName=RootManageSharedAccessKey;SharedAccessKey=N356PDczXPj4xo7sLDbVJckSjAyWHpy0xmrwx8iw9V8='\n",
    "\n",
    "container_db_name, queue_name = get_container_and_queue(company_id, dbConectionString.format(container_security))\n",
    "\n",
    "if container_db_name == None or queue_name == None:\n",
    "    raise Exception(\"the db container was not found\")"
   ]
  },
  {
   "cell_type": "code",
   "execution_count": 6,
   "metadata": {
    "ExecuteTime": {
     "end_time": "2020-10-08T16:10:26.852072Z",
     "start_time": "2020-10-08T16:10:26.848077Z"
    }
   },
   "outputs": [],
   "source": [
    "segmentation_model_path = './segmentation_model.hdf5'\n",
    "FPR_model_path = './FPR_model.hdf5'\n",
    "cancer_model_path = './cancer_model.hdf5'\n",
    "lobes_model_path = './lobes_model.hdf5'"
   ]
  },
  {
   "cell_type": "code",
   "execution_count": 7,
   "metadata": {
    "ExecuteTime": {
     "end_time": "2020-10-08T16:10:43.750673Z",
     "start_time": "2020-10-08T16:10:26.886072Z"
    }
   },
   "outputs": [
    {
     "name": "stdout",
     "output_type": "stream",
     "text": [
      "WARNING:tensorflow:From D:\\Programas\\Anaconda3\\lib\\site-packages\\tensorflow\\python\\framework\\op_def_library.py:263: colocate_with (from tensorflow.python.framework.ops) is deprecated and will be removed in a future version.\n",
      "Instructions for updating:\n",
      "Colocations handled automatically by placer.\n"
     ]
    },
    {
     "name": "stderr",
     "output_type": "stream",
     "text": [
      "D:\\Programas\\Anaconda3\\lib\\site-packages\\keras\\engine\\saving.py:292: UserWarning: No training configuration found in save file: the model was *not* compiled. Compile it manually.\n",
      "  warnings.warn('No training configuration found in save file: '\n"
     ]
    },
    {
     "name": "stdout",
     "output_type": "stream",
     "text": [
      "WARNING:tensorflow:From D:\\Programas\\Anaconda3\\lib\\site-packages\\keras\\backend\\tensorflow_backend.py:3445: calling dropout (from tensorflow.python.ops.nn_ops) with keep_prob is deprecated and will be removed in a future version.\n",
      "Instructions for updating:\n",
      "Please use `rate` instead of `keep_prob`. Rate should be set to `rate = 1 - keep_prob`.\n"
     ]
    }
   ],
   "source": [
    "segmentation_model = load_model(segmentation_model_path)\n",
    "FPR_model = load_model(FPR_model_path)\n",
    "cancer_model = load_model(cancer_model_path)\n",
    "lobes_model = load_model(lobes_model_path)"
   ]
  },
  {
   "cell_type": "code",
   "execution_count": 17,
   "metadata": {
    "ExecuteTime": {
     "end_time": "2020-10-08T16:21:02.491425Z",
     "start_time": "2020-10-08T16:21:02.480422Z"
    }
   },
   "outputs": [],
   "source": [
    "############ utils lung CA #####################\n",
    "def get_coods_matrix(start, stop):\n",
    "\n",
    "    z = np.arange(start[0], stop[0], 64)\n",
    "    z[len(z) - 1] = stop[0] - 64\n",
    "\n",
    "    y = np.arange(start[1], stop[1], 64)\n",
    "    y[len(y) - 1] = stop[1] - 64\n",
    "\n",
    "    x = np.arange(start[2], stop[2], 64)\n",
    "    x[len(x) - 1] = stop[2] - 64\n",
    "\n",
    "    indexes = np.array(np.meshgrid(z, y, x))\n",
    "    indexes = indexes.reshape(3, -1).T\n",
    "\n",
    "    return indexes\n",
    "\n",
    "def index_to_slice(start, thickness):\n",
    "    slices = []\n",
    "    for i in start:\n",
    "        t = slice(i, i + thickness)\n",
    "        slices.append(t)\n",
    "    return slices\n",
    "\n",
    "def normalize(npzarray):\n",
    "    maxHU = 400.\n",
    "    minHU = -1000.\n",
    "    npzarray = (npzarray - minHU) / (maxHU - minHU)\n",
    "    npzarray = np.clip(npzarray, 0, 1)\n",
    "    return npzarray\n",
    "\n",
    "def make_predictions_fom_vol(vol, indexes):\n",
    "    try:\n",
    "        thickness = 64\n",
    "        pred = np.zeros((*vol.shape, 2))\n",
    "        for start in indexes:\n",
    "            slices = index_to_slice(start, thickness)\n",
    "            cube = vol[slices]\n",
    "            temp = segmentation_model.predict(cube[np.newaxis, ..., np.newaxis]) # *cube.shape, 1\n",
    "            pred[slices] = temp[0]\n",
    "    except Exception as e:\n",
    "        print(str(e))\n",
    "        raise('error al hacer una de las predicciones de los nodulos' + str(e))\n",
    "    return pred\n",
    "\n",
    "def get_start_stop(mask, margin = 32):\n",
    "    limits = find_objects(mask != 0)[0]\n",
    "    start = []\n",
    "    stop = []\n",
    "    for i, limit in enumerate(limits):\n",
    "        begin = limit.start - 32 if limit.start >= 32 else 0\n",
    "        end = limit.stop + 32 if limit.stop + 32 < mask.shape[i] else mask.shape[i]\n",
    "        start.append(begin)\n",
    "        stop.append(end)\n",
    "    return start, stop\n",
    "\n",
    "def get_nodule_segmentation(vol, lobes_mask):\n",
    "    #start = (0, 0, 0)\n",
    "    #stop = vol.shape\n",
    "    start, stop = get_start_stop(lobes_mask)\n",
    "    indexes = get_coods_matrix(start, stop)\n",
    "    pred = make_predictions_fom_vol(normalize(vol), indexes).argmax(-1)\n",
    "    return pred\n",
    "\n",
    "def FPR(patch):\n",
    "    vol_size = np.array([30, 30, 30])\n",
    "    patch = normalize(patch)\n",
    "    patch = zoom(patch, vol_size/np.array(patch.shape), order=0)[np.newaxis, ..., np.newaxis]\n",
    "    tag = FPR_model.predict(patch)[0] > 0.64\n",
    "    return tag\n",
    "\n",
    "def refine_segmentation(vol, segmentation):\n",
    "    labeled_segmentation = label(segmentation)\n",
    "    props_pred = regionprops(labeled_segmentation)\n",
    "    \n",
    "    for prop in props_pred:\n",
    "        min_slice, min_row, min_col, max_slice, max_row, max_col = prop.bbox\n",
    "        patch = vol[min_slice:max_slice, min_row:max_row, min_col:max_col]\n",
    "        is_tp = FPR(patch)\n",
    "        if not is_tp:\n",
    "            segmentation[labeled_segmentation == prop.label] = 0\n",
    "            \n",
    "    return segmentation"
   ]
  },
  {
   "cell_type": "code",
   "execution_count": 9,
   "metadata": {
    "ExecuteTime": {
     "end_time": "2020-10-08T16:10:43.844677Z",
     "start_time": "2020-10-08T16:10:43.835680Z"
    }
   },
   "outputs": [],
   "source": [
    "def process_lobe_prediction(pred, new_shape, apply_rank_filter=True, resize=True):\n",
    "    pred = pred.reshape(128,128,128,6)\n",
    "    mask = pred.argmax(-1)\n",
    "    if resize:\n",
    "        scale = np.array(new_shape)/np.array(mask.shape)\n",
    "        mask = zoom(mask, scale, order=0)\n",
    "    if apply_rank_filter:\n",
    "        mask =  rank_filter(mask, rank=165, size=7)\n",
    "    return mask\n",
    "\n",
    "def mask_to_dcms(dcms, arr, sort=True, sort_by=\"InstanceNumber\"):\n",
    "    max_value = arr.max()\n",
    "    bits_stored = len(bin(max_value))-2\n",
    "    \n",
    "    series_uid = get_uid()\n",
    "    dcm_base = getBase(dcms[0], series_uid, 'Segmented Lobe', wc='3', ww='6', bits = 8, bits_stored=bits_stored, intercept='0', slope='1')\n",
    "    arr = arr.astype(np.uint8)\n",
    "    dcms_new = []\n",
    "    \n",
    "    for pixel_array, dcm in zip(arr, dcms):\n",
    "        instance_uid = get_uid()\n",
    "        \n",
    "        dcm_base.add_new(0x00080018, 'UI', instance_uid) # SOP Instance UID\n",
    "        dcm_base.add_new(0x00200013, 'IS', dcm.InstanceNumber) # Instance Number\n",
    "        dcm_base.add_new(0x00201041, 'DS', dcm.SliceLocation) # Slice Location\n",
    "        dcm_base.add_new(0x00200032, 'DS', dcm.ImagePositionPatient) # Image Position (Patient)\n",
    "        dcm_base.add_new(0x7fe00010, 'OW', pixel_array.tobytes()) # Pixel Data\n",
    "\n",
    "        dcms_new.append(copy.deepcopy(dcm_base))\n",
    "        #dcm_base.save_as('temp/{}.dcm'.format(instance_uid))\n",
    "\n",
    "    dcms_new.sort(key=lambda x: float(x.get(sort_by)))\n",
    "\n",
    "    return dcms_new\n",
    "\n",
    "def segment_and_save_lobes_from_dcms(dcms, company_id, apply_rank_filter=True, resize=True):\n",
    "    vol, _ = get_vol_from_dcms(dcms, sort_by=\"SliceLocation\")\n",
    "    new_shape = np.array([128, 128, 128])\n",
    "    old_shape = vol.shape\n",
    "    vol = zoom(vol, new_shape/np.array(vol.shape), order=0)\n",
    "    vol = normalize(vol)\n",
    "    pred = lobes_model.predict(vol.reshape(1, 128, 128, 128, 1))\n",
    "    mask = process_lobe_prediction(\n",
    "        pred, old_shape, apply_rank_filter, resize)\n",
    "    \n",
    "    lobes_dcms = mask_to_dcms(dcms, mask, sort=True, sort_by=\"InstanceNumber\")\n",
    "    _, folder_path = save_dcms(lobes_dcms, blobStorageConnectionString, container_name, company_id)[0]\n",
    "\n",
    "    push_message(json.dumps({'path': folder_path, 'type': \"PullDcms\"}), serviceBusConnectionString, queue_name)\n",
    "    return mask, folder_path"
   ]
  },
  {
   "cell_type": "code",
   "execution_count": 25,
   "metadata": {
    "ExecuteTime": {
     "end_time": "2020-10-08T16:40:04.579033Z",
     "start_time": "2020-10-08T16:40:04.576030Z"
    }
   },
   "outputs": [],
   "source": [
    "def get_cancer_prediction(patch):\n",
    "    vol_size = np.array([40, 40, 40])\n",
    "    patch = normalize(patch)\n",
    "    patch = zoom(patch, vol_size/np.array(patch.shape), order=0)[np.newaxis, ..., np.newaxis]\n",
    "    tag = cancer_model.predict(patch)[0]\n",
    "    return tag\n",
    "\n",
    "def get_diameter(bbox, spacing):\n",
    "    min_slice, min_row, min_col, max_slice, max_row, max_col = prop.bbox\n",
    "    x_diameter = max_col - min_col\n",
    "    y_diameter = max_row - min_row\n",
    "    \n",
    "    if x_diameter >= y_diameter:\n",
    "        return x_diameter * spacing[2]\n",
    "    else:\n",
    "        return y_diameter * spacing[1]"
   ]
  },
  {
   "cell_type": "code",
   "execution_count": 10,
   "metadata": {
    "ExecuteTime": {
     "end_time": "2020-10-08T16:10:54.436040Z",
     "start_time": "2020-10-08T16:10:43.885677Z"
    }
   },
   "outputs": [],
   "source": [
    "dcms = get_dicoms_from_folder(uuid, container_name, blobStorageConnectionString)\n",
    "vol, spacing = get_vol_from_dcms(dcms)"
   ]
  },
  {
   "cell_type": "code",
   "execution_count": 14,
   "metadata": {
    "ExecuteTime": {
     "end_time": "2020-10-08T16:13:32.945472Z",
     "start_time": "2020-10-08T16:11:48.183473Z"
    }
   },
   "outputs": [
    {
     "name": "stdout",
     "output_type": "stream",
     "text": [
      "text: {\"path\": \"1/1.2.826.0.1.3680043.10.455.108.121238227777.56678378762199502542\", \"type\": \"PullDcms\"}\n"
     ]
    }
   ],
   "source": [
    "lobes_mask, folder_path = segment_and_save_lobes_from_dcms(dcms, company_id)"
   ]
  },
  {
   "cell_type": "code",
   "execution_count": 18,
   "metadata": {
    "ExecuteTime": {
     "end_time": "2020-10-08T16:24:19.006505Z",
     "start_time": "2020-10-08T16:23:50.896536Z"
    }
   },
   "outputs": [
    {
     "name": "stderr",
     "output_type": "stream",
     "text": [
      "D:\\Programas\\Anaconda3\\lib\\site-packages\\ipykernel_launcher.py:38: FutureWarning: Using a non-tuple sequence for multidimensional indexing is deprecated; use `arr[tuple(seq)]` instead of `arr[seq]`. In the future this will be interpreted as an array index, `arr[np.array(seq)]`, which will result either in an error or a different result.\n",
      "D:\\Programas\\Anaconda3\\lib\\site-packages\\ipykernel_launcher.py:40: FutureWarning: Using a non-tuple sequence for multidimensional indexing is deprecated; use `arr[tuple(seq)]` instead of `arr[seq]`. In the future this will be interpreted as an array index, `arr[np.array(seq)]`, which will result either in an error or a different result.\n"
     ]
    }
   ],
   "source": [
    "segmentation = get_nodule_segmentation(vol, lobes_mask)"
   ]
  },
  {
   "cell_type": "code",
   "execution_count": 19,
   "metadata": {
    "ExecuteTime": {
     "end_time": "2020-10-08T16:24:29.394600Z",
     "start_time": "2020-10-08T16:24:19.698434Z"
    }
   },
   "outputs": [
    {
     "name": "stderr",
     "output_type": "stream",
     "text": [
      "D:\\Programas\\Anaconda3\\lib\\site-packages\\scipy\\ndimage\\interpolation.py:583: UserWarning: From scipy 0.13.0, the output shape of zoom() is calculated with round() instead of int() - for these inputs the size of the returned array has changed.\n",
      "  \"the returned array has changed.\", UserWarning)\n"
     ]
    }
   ],
   "source": [
    "segmentation = refine_segmentation(vol, segmentation)"
   ]
  },
  {
   "cell_type": "code",
   "execution_count": 20,
   "metadata": {
    "ExecuteTime": {
     "end_time": "2020-10-08T16:24:31.314910Z",
     "start_time": "2020-10-08T16:24:30.121930Z"
    }
   },
   "outputs": [],
   "source": [
    "pred_final = label(segmentation)"
   ]
  },
  {
   "cell_type": "code",
   "execution_count": 21,
   "metadata": {
    "ExecuteTime": {
     "end_time": "2020-10-08T16:24:43.775782Z",
     "start_time": "2020-10-08T16:24:41.599704Z"
    }
   },
   "outputs": [
    {
     "data": {
      "text/plain": [
       "array([ 0,  1,  2,  3,  4,  5,  6,  7,  8,  9, 10, 11, 12, 13, 14, 15, 16],\n",
       "      dtype=int64)"
      ]
     },
     "execution_count": 21,
     "metadata": {},
     "output_type": "execute_result"
    }
   ],
   "source": [
    "np.unique(pred_final)"
   ]
  },
  {
   "cell_type": "code",
   "execution_count": 62,
   "metadata": {
    "ExecuteTime": {
     "end_time": "2020-10-08T17:00:51.217079Z",
     "start_time": "2020-10-08T17:00:50.960407Z"
    }
   },
   "outputs": [],
   "source": [
    "props_pred = regionprops(pred_final)\n",
    "measures = {}\n",
    "to_skip = []"
   ]
  },
  {
   "cell_type": "code",
   "execution_count": 63,
   "metadata": {
    "ExecuteTime": {
     "end_time": "2020-10-08T17:00:54.793583Z",
     "start_time": "2020-10-08T17:00:51.881208Z"
    }
   },
   "outputs": [],
   "source": [
    "i = 0\n",
    "for prop in props_pred:\n",
    "    # determina en que lobulo esta el nodulo\n",
    "    lobe_values = lobes_mask[pred_final == prop.label]\n",
    "    vals, counts = np.unique(lobe_values, return_counts=True)\n",
    "    counts = counts[vals != 0]\n",
    "    vals = vals[vals != 0]\n",
    "\n",
    "    if len(vals) == 0:\n",
    "        to_skip.append(prop.label)\n",
    "        continue\n",
    "    \n",
    "    lobe = int(vals[counts == counts.max()][0])\n",
    "    \n",
    "    min_slice, min_row, min_col, max_slice, max_row, max_col = prop.bbox\n",
    "    patch = vol[min_slice:max_slice, min_row:max_row, min_col:max_col]\n",
    "    \n",
    "    cancer_proba = round(get_cancer_prediction(patch)[1]*100, 2)\n",
    "    \n",
    "    diameter = get_diameter(prop.bbox, spacing)\n",
    "\n",
    "    measures[str(i)] = {\n",
    "        'center': (np.array(prop.centroid)).round().astype(np.int).tolist(),\n",
    "        'cords': {},\n",
    "        'type': 1 if cancer_proba > 0.5 else 2,\n",
    "        'lobe': lobe,\n",
    "        'probability': cancer_proba,\n",
    "        'diameter': diameter\n",
    "    }\n",
    "    \n",
    "    slices, cords = np.where((pred_final == prop.label).reshape(vol.shape[0], -1))\n",
    "    for cut in slices:\n",
    "        measures[str(prop.label)]['cords'][str(cut)] = cords[slices == cut].tolist()\n",
    "    i += 1"
   ]
  },
  {
   "cell_type": "code",
   "execution_count": null,
   "metadata": {},
   "outputs": [],
   "source": [
    "insert_prediction(dcm.StudyInstanceUID, dcm.SeriesInstanceUID, dcm.SOPInstanceUID, json.dumps(data), 2, 5, dbConectionString.format(container_db_name))"
   ]
  }
 ],
 "metadata": {
  "kernelspec": {
   "display_name": "Python 3",
   "language": "python",
   "name": "python3"
  },
  "language_info": {
   "codemirror_mode": {
    "name": "ipython",
    "version": 3
   },
   "file_extension": ".py",
   "mimetype": "text/x-python",
   "name": "python",
   "nbconvert_exporter": "python",
   "pygments_lexer": "ipython3",
   "version": "3.6.5"
  },
  "varInspector": {
   "cols": {
    "lenName": 16,
    "lenType": 16,
    "lenVar": 40
   },
   "kernels_config": {
    "python": {
     "delete_cmd_postfix": "",
     "delete_cmd_prefix": "del ",
     "library": "var_list.py",
     "varRefreshCmd": "print(var_dic_list())"
    },
    "r": {
     "delete_cmd_postfix": ") ",
     "delete_cmd_prefix": "rm(",
     "library": "var_list.r",
     "varRefreshCmd": "cat(var_dic_list()) "
    }
   },
   "types_to_exclude": [
    "module",
    "function",
    "builtin_function_or_method",
    "instance",
    "_Feature"
   ],
   "window_display": false
  }
 },
 "nbformat": 4,
 "nbformat_minor": 2
}
