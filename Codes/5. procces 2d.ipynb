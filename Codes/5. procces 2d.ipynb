{
 "cells": [
  {
   "cell_type": "code",
   "execution_count": 1,
   "metadata": {
    "ExecuteTime": {
     "end_time": "2020-07-30T06:28:04.443623Z",
     "start_time": "2020-07-30T06:28:04.325849Z"
    }
   },
   "outputs": [],
   "source": [
    "import numpy as np\n",
    "from glob import glob\n",
    "import pydicom\n",
    "import re\n",
    "from tqdm import tqdm_notebook"
   ]
  },
  {
   "cell_type": "code",
   "execution_count": null,
   "metadata": {},
   "outputs": [],
   "source": [
    "from multiprocessing.pool import ThreadPool"
   ]
  },
  {
   "cell_type": "code",
   "execution_count": 2,
   "metadata": {
    "ExecuteTime": {
     "end_time": "2020-07-30T06:28:05.066328Z",
     "start_time": "2020-07-30T06:28:05.061784Z"
    }
   },
   "outputs": [],
   "source": [
    "train, test = np.load('splited.npy', allow_pickle=True)"
   ]
  },
  {
   "cell_type": "code",
   "execution_count": 3,
   "metadata": {
    "ExecuteTime": {
     "end_time": "2020-07-30T06:28:05.369662Z",
     "start_time": "2020-07-30T06:28:05.366663Z"
    }
   },
   "outputs": [],
   "source": [
    "root_mask_path = \"Y:/LIDC-IDRI_final_masks/LIDC-IDRI-{}.npz\""
   ]
  },
  {
   "cell_type": "code",
   "execution_count": 4,
   "metadata": {
    "ExecuteTime": {
     "end_time": "2020-07-30T06:28:05.702898Z",
     "start_time": "2020-07-30T06:28:05.700897Z"
    }
   },
   "outputs": [],
   "source": [
    "paths = np.concatenate([train, test])"
   ]
  },
  {
   "cell_type": "code",
   "execution_count": 5,
   "metadata": {
    "ExecuteTime": {
     "end_time": "2020-07-30T12:36:09.860310Z",
     "start_time": "2020-07-30T06:28:06.096219Z"
    }
   },
   "outputs": [
    {
     "data": {
      "application/vnd.jupyter.widget-view+json": {
       "model_id": "95427678aae2430e9dec53cdb79f2eb1",
       "version_major": 2,
       "version_minor": 0
      },
      "text/plain": [
       "HBox(children=(IntProgress(value=0, max=883), HTML(value='')))"
      ]
     },
     "metadata": {},
     "output_type": "display_data"
    },
    {
     "name": "stdout",
     "output_type": "stream",
     "text": [
      "\n"
     ]
    }
   ],
   "source": [
    "index = 0\n",
    "for path in tqdm_notebook(paths):\n",
    "    dcms = [pydicom.dcmread(path) for path in glob(path+'/*.dcm')]\n",
    "    dcms.sort(key=lambda dcm: float(dcm.ImagePositionPatient[2]))\n",
    "    vol = np.array([(dcm.pixel_array * float(dcm.RescaleSlope)) + float(dcm.RescaleIntercept) for dcm in dcms])\n",
    "    \n",
    "    case = re.search('LIDC-IDRI-(.+?)/', path).group(1)\n",
    "    \n",
    "    mask_path = root_mask_path.format(case)\n",
    "    \n",
    "    file = np.load(mask_path)\n",
    "    mask = file['mask']\n",
    "    file.close()\n",
    "    \n",
    "    slices = np.argwhere(mask.sum(axis=(1,2)) != 0).flatten()\n",
    "    \n",
    "    subset = \"test\"\n",
    "    if(path in train):\n",
    "        subset = \"train\"\n",
    "    \n",
    "    for slice_ in slices:\n",
    "        np.savez_compressed(\"./data/{}/{}.npz\".format(subset, index), data=vol[slice_], mask=mask[slice_])\n",
    "        index += 1"
   ]
  },
  {
   "cell_type": "code",
   "execution_count": 6,
   "metadata": {
    "ExecuteTime": {
     "end_time": "2020-07-30T12:36:10.655373Z",
     "start_time": "2020-07-30T12:36:10.617163Z"
    }
   },
   "outputs": [
    {
     "data": {
      "text/plain": [
       "0"
      ]
     },
     "execution_count": 6,
     "metadata": {},
     "output_type": "execute_result"
    }
   ],
   "source": [
    "import subprocess\n",
    "\n",
    "subprocess.call(\"shutdown -s\")"
   ]
  },
  {
   "cell_type": "code",
   "execution_count": null,
   "metadata": {},
   "outputs": [],
   "source": []
  }
 ],
 "metadata": {
  "kernelspec": {
   "display_name": "Python 3",
   "language": "python",
   "name": "python3"
  },
  "language_info": {
   "codemirror_mode": {
    "name": "ipython",
    "version": 3
   },
   "file_extension": ".py",
   "mimetype": "text/x-python",
   "name": "python",
   "nbconvert_exporter": "python",
   "pygments_lexer": "ipython3",
   "version": "3.6.5"
  },
  "varInspector": {
   "cols": {
    "lenName": 16,
    "lenType": 16,
    "lenVar": 40
   },
   "kernels_config": {
    "python": {
     "delete_cmd_postfix": "",
     "delete_cmd_prefix": "del ",
     "library": "var_list.py",
     "varRefreshCmd": "print(var_dic_list())"
    },
    "r": {
     "delete_cmd_postfix": ") ",
     "delete_cmd_prefix": "rm(",
     "library": "var_list.r",
     "varRefreshCmd": "cat(var_dic_list()) "
    }
   },
   "types_to_exclude": [
    "module",
    "function",
    "builtin_function_or_method",
    "instance",
    "_Feature"
   ],
   "window_display": false
  }
 },
 "nbformat": 4,
 "nbformat_minor": 2
}
